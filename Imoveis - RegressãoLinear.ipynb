{
 "cells": [
  {
   "cell_type": "code",
   "execution_count": 1,
   "id": "ec7fb268",
   "metadata": {},
   "outputs": [
    {
     "name": "stderr",
     "output_type": "stream",
     "text": [
      "C:\\Users\\dsant\\anaconda3\\lib\\site-packages\\pandas\\core\\computation\\expressions.py:21: UserWarning: Pandas requires version '2.8.4' or newer of 'numexpr' (version '2.8.3' currently installed).\n",
      "  from pandas.core.computation.check import NUMEXPR_INSTALLED\n",
      "C:\\Users\\dsant\\anaconda3\\lib\\site-packages\\pandas\\core\\arrays\\masked.py:60: UserWarning: Pandas requires version '1.3.6' or newer of 'bottleneck' (version '1.3.5' currently installed).\n",
      "  from pandas.core import (\n",
      "C:\\Users\\dsant\\AppData\\Local\\Temp\\ipykernel_14036\\3211880460.py:1: DeprecationWarning: \n",
      "Pyarrow will become a required dependency of pandas in the next major release of pandas (pandas 3.0),\n",
      "(to allow more performant data types, such as the Arrow string type, and better interoperability with other libraries)\n",
      "but was not found to be installed on your system.\n",
      "If this would cause problems for you,\n",
      "please provide us feedback at https://github.com/pandas-dev/pandas/issues/54466\n",
      "        \n",
      "  import pandas as pd\n"
     ]
    }
   ],
   "source": [
    "import pandas as pd\n",
    "import numpy as np\n",
    "import seaborn as sns\n",
    "from sklearn.model_selection import train_test_split\n",
    "from sklearn.linear_model import LinearRegression\n",
    "from sklearn import metrics"
   ]
  },
  {
   "cell_type": "code",
   "execution_count": 2,
   "id": "72f7a18a",
   "metadata": {},
   "outputs": [],
   "source": [
    "imoveis = pd.read_excel(\"imoveis.xlsx\")"
   ]
  },
  {
   "cell_type": "code",
   "execution_count": 3,
   "id": "d69f7f3b",
   "metadata": {},
   "outputs": [
    {
     "data": {
      "text/html": [
       "<div>\n",
       "<style scoped>\n",
       "    .dataframe tbody tr th:only-of-type {\n",
       "        vertical-align: middle;\n",
       "    }\n",
       "\n",
       "    .dataframe tbody tr th {\n",
       "        vertical-align: top;\n",
       "    }\n",
       "\n",
       "    .dataframe thead th {\n",
       "        text-align: right;\n",
       "    }\n",
       "</style>\n",
       "<table border=\"1\" class=\"dataframe\">\n",
       "  <thead>\n",
       "    <tr style=\"text-align: right;\">\n",
       "      <th></th>\n",
       "      <th>area</th>\n",
       "      <th>preco</th>\n",
       "    </tr>\n",
       "  </thead>\n",
       "  <tbody>\n",
       "    <tr>\n",
       "      <th>0</th>\n",
       "      <td>359.87</td>\n",
       "      <td>25000</td>\n",
       "    </tr>\n",
       "    <tr>\n",
       "      <th>1</th>\n",
       "      <td>353.12</td>\n",
       "      <td>45000</td>\n",
       "    </tr>\n",
       "    <tr>\n",
       "      <th>2</th>\n",
       "      <td>341.89</td>\n",
       "      <td>45000</td>\n",
       "    </tr>\n",
       "    <tr>\n",
       "      <th>3</th>\n",
       "      <td>435.99</td>\n",
       "      <td>20000</td>\n",
       "    </tr>\n",
       "    <tr>\n",
       "      <th>4</th>\n",
       "      <td>341.77</td>\n",
       "      <td>25000</td>\n",
       "    </tr>\n",
       "  </tbody>\n",
       "</table>\n",
       "</div>"
      ],
      "text/plain": [
       "     area  preco\n",
       "0  359.87  25000\n",
       "1  353.12  45000\n",
       "2  341.89  45000\n",
       "3  435.99  20000\n",
       "4  341.77  25000"
      ]
     },
     "execution_count": 3,
     "metadata": {},
     "output_type": "execute_result"
    }
   ],
   "source": [
    "imoveis.head()"
   ]
  },
  {
   "cell_type": "markdown",
   "id": "ddf0cbb3",
   "metadata": {},
   "source": [
    "Analise de Dados exploratória"
   ]
  },
  {
   "cell_type": "code",
   "execution_count": 5,
   "id": "6f79e794",
   "metadata": {},
   "outputs": [
    {
     "data": {
      "text/html": [
       "<div>\n",
       "<style scoped>\n",
       "    .dataframe tbody tr th:only-of-type {\n",
       "        vertical-align: middle;\n",
       "    }\n",
       "\n",
       "    .dataframe tbody tr th {\n",
       "        vertical-align: top;\n",
       "    }\n",
       "\n",
       "    .dataframe thead th {\n",
       "        text-align: right;\n",
       "    }\n",
       "</style>\n",
       "<table border=\"1\" class=\"dataframe\">\n",
       "  <thead>\n",
       "    <tr style=\"text-align: right;\">\n",
       "      <th></th>\n",
       "      <th>area</th>\n",
       "      <th>preco</th>\n",
       "    </tr>\n",
       "  </thead>\n",
       "  <tbody>\n",
       "    <tr>\n",
       "      <th>count</th>\n",
       "      <td>54.000000</td>\n",
       "      <td>54.000000</td>\n",
       "    </tr>\n",
       "    <tr>\n",
       "      <th>mean</th>\n",
       "      <td>457.483519</td>\n",
       "      <td>41296.296296</td>\n",
       "    </tr>\n",
       "    <tr>\n",
       "      <th>std</th>\n",
       "      <td>261.527053</td>\n",
       "      <td>16488.566227</td>\n",
       "    </tr>\n",
       "    <tr>\n",
       "      <th>min</th>\n",
       "      <td>293.220000</td>\n",
       "      <td>20000.000000</td>\n",
       "    </tr>\n",
       "    <tr>\n",
       "      <th>25%</th>\n",
       "      <td>355.087500</td>\n",
       "      <td>30000.000000</td>\n",
       "    </tr>\n",
       "    <tr>\n",
       "      <th>50%</th>\n",
       "      <td>380.360000</td>\n",
       "      <td>40000.000000</td>\n",
       "    </tr>\n",
       "    <tr>\n",
       "      <th>75%</th>\n",
       "      <td>470.087500</td>\n",
       "      <td>50000.000000</td>\n",
       "    </tr>\n",
       "    <tr>\n",
       "      <th>max</th>\n",
       "      <td>2057.570000</td>\n",
       "      <td>120000.000000</td>\n",
       "    </tr>\n",
       "  </tbody>\n",
       "</table>\n",
       "</div>"
      ],
      "text/plain": [
       "              area          preco\n",
       "count    54.000000      54.000000\n",
       "mean    457.483519   41296.296296\n",
       "std     261.527053   16488.566227\n",
       "min     293.220000   20000.000000\n",
       "25%     355.087500   30000.000000\n",
       "50%     380.360000   40000.000000\n",
       "75%     470.087500   50000.000000\n",
       "max    2057.570000  120000.000000"
      ]
     },
     "execution_count": 5,
     "metadata": {},
     "output_type": "execute_result"
    }
   ],
   "source": [
    "imoveis.describe() # analisar dados (estatistica)"
   ]
  },
  {
   "cell_type": "code",
   "execution_count": 6,
   "id": "079d4bde",
   "metadata": {},
   "outputs": [
    {
     "name": "stdout",
     "output_type": "stream",
     "text": [
      "<class 'pandas.core.frame.DataFrame'>\n",
      "RangeIndex: 54 entries, 0 to 53\n",
      "Data columns (total 2 columns):\n",
      " #   Column  Non-Null Count  Dtype  \n",
      "---  ------  --------------  -----  \n",
      " 0   area    54 non-null     float64\n",
      " 1   preco   54 non-null     int64  \n",
      "dtypes: float64(1), int64(1)\n",
      "memory usage: 992.0 bytes\n"
     ]
    }
   ],
   "source": [
    "imoveis.info() # verificando se temos nulos e tipo dos dados"
   ]
  },
  {
   "cell_type": "code",
   "execution_count": 7,
   "id": "f90e2060",
   "metadata": {},
   "outputs": [
    {
     "data": {
      "text/plain": [
       "<AxesSubplot:xlabel='area', ylabel='Count'>"
      ]
     },
     "execution_count": 7,
     "metadata": {},
     "output_type": "execute_result"
    },
    {
     "data": {
      "image/png": "[encoded data removed]",
      "text/plain": [
       "<Figure size 640x480 with 1 Axes>"
      ]
     },
     "metadata": {},
     "output_type": "display_data"
    }
   ],
   "source": [
    "sns.histplot(imoveis, x=\"area\", kde=True) # não é uma distribuição normal"
   ]
  },
  {
   "cell_type": "code",
   "execution_count": 9,
   "id": "725c2295",
   "metadata": {},
   "outputs": [
    {
     "data": {
      "text/plain": [
       "<AxesSubplot:xlabel='preco', ylabel='Count'>"
      ]
     },
     "execution_count": 9,
     "metadata": {},
     "output_type": "execute_result"
    },
    {
     "data": {
      "image/png": "[encoded data removed]",
      "text/plain": [
       "<Figure size 640x480 with 1 Axes>"
      ]
     },
     "metadata": {},
     "output_type": "display_data"
    }
   ],
   "source": [
    "sns.histplot(imoveis, x=\"preco\", kde=True) # se parece mais com uma distribuição normal"
   ]
  },
  {
   "cell_type": "code",
   "execution_count": 10,
   "id": "9c27518e",
   "metadata": {},
   "outputs": [
    {
     "data": {
      "text/html": [
       "<div>\n",
       "<style scoped>\n",
       "    .dataframe tbody tr th:only-of-type {\n",
       "        vertical-align: middle;\n",
       "    }\n",
       "\n",
       "    .dataframe tbody tr th {\n",
       "        vertical-align: top;\n",
       "    }\n",
       "\n",
       "    .dataframe thead th {\n",
       "        text-align: right;\n",
       "    }\n",
       "</style>\n",
       "<table border=\"1\" class=\"dataframe\">\n",
       "  <thead>\n",
       "    <tr style=\"text-align: right;\">\n",
       "      <th></th>\n",
       "      <th>area</th>\n",
       "      <th>preco</th>\n",
       "    </tr>\n",
       "  </thead>\n",
       "  <tbody>\n",
       "    <tr>\n",
       "      <th>area</th>\n",
       "      <td>1.000000</td>\n",
       "      <td>0.511373</td>\n",
       "    </tr>\n",
       "    <tr>\n",
       "      <th>preco</th>\n",
       "      <td>0.511373</td>\n",
       "      <td>1.000000</td>\n",
       "    </tr>\n",
       "  </tbody>\n",
       "</table>\n",
       "</div>"
      ],
      "text/plain": [
       "           area     preco\n",
       "area   1.000000  0.511373\n",
       "preco  0.511373  1.000000"
      ]
     },
     "execution_count": 10,
     "metadata": {},
     "output_type": "execute_result"
    }
   ],
   "source": [
    " imoveis.corr() #não é uma correlação forte"
   ]
  },
  {
   "cell_type": "code",
   "execution_count": 11,
   "id": "94781160",
   "metadata": {},
   "outputs": [
    {
     "data": {
      "text/plain": [
       "<AxesSubplot:xlabel='area', ylabel='preco'>"
      ]
     },
     "execution_count": 11,
     "metadata": {},
     "output_type": "execute_result"
    },
    {
     "data": {
      "image/png": "[encoded data removed]",
      "text/plain": [
       "<Figure size 640x480 with 1 Axes>"
      ]
     },
     "metadata": {},
     "output_type": "display_data"
    }
   ],
   "source": [
    "sns.regplot(x=\"area\", y=\"preco\", data=imoveis) #visualizar a relação de correlação enter preço e area"
   ]
  },
  {
   "cell_type": "code",
   "execution_count": 12,
   "id": "798a4f77",
   "metadata": {},
   "outputs": [
    {
     "data": {
      "text/html": [
       "<div>\n",
       "<style scoped>\n",
       "    .dataframe tbody tr th:only-of-type {\n",
       "        vertical-align: middle;\n",
       "    }\n",
       "\n",
       "    .dataframe tbody tr th {\n",
       "        vertical-align: top;\n",
       "    }\n",
       "\n",
       "    .dataframe thead th {\n",
       "        text-align: right;\n",
       "    }\n",
       "</style>\n",
       "<table border=\"1\" class=\"dataframe\">\n",
       "  <thead>\n",
       "    <tr style=\"text-align: right;\">\n",
       "      <th></th>\n",
       "      <th>area</th>\n",
       "      <th>preco</th>\n",
       "    </tr>\n",
       "  </thead>\n",
       "  <tbody>\n",
       "    <tr>\n",
       "      <th>count</th>\n",
       "      <td>54.000000</td>\n",
       "      <td>54.000000</td>\n",
       "    </tr>\n",
       "    <tr>\n",
       "      <th>mean</th>\n",
       "      <td>457.483519</td>\n",
       "      <td>41296.296296</td>\n",
       "    </tr>\n",
       "    <tr>\n",
       "      <th>std</th>\n",
       "      <td>261.527053</td>\n",
       "      <td>16488.566227</td>\n",
       "    </tr>\n",
       "    <tr>\n",
       "      <th>min</th>\n",
       "      <td>293.220000</td>\n",
       "      <td>20000.000000</td>\n",
       "    </tr>\n",
       "    <tr>\n",
       "      <th>25%</th>\n",
       "      <td>355.087500</td>\n",
       "      <td>30000.000000</td>\n",
       "    </tr>\n",
       "    <tr>\n",
       "      <th>50%</th>\n",
       "      <td>380.360000</td>\n",
       "      <td>40000.000000</td>\n",
       "    </tr>\n",
       "    <tr>\n",
       "      <th>75%</th>\n",
       "      <td>470.087500</td>\n",
       "      <td>50000.000000</td>\n",
       "    </tr>\n",
       "    <tr>\n",
       "      <th>max</th>\n",
       "      <td>2057.570000</td>\n",
       "      <td>120000.000000</td>\n",
       "    </tr>\n",
       "  </tbody>\n",
       "</table>\n",
       "</div>"
      ],
      "text/plain": [
       "              area          preco\n",
       "count    54.000000      54.000000\n",
       "mean    457.483519   41296.296296\n",
       "std     261.527053   16488.566227\n",
       "min     293.220000   20000.000000\n",
       "25%     355.087500   30000.000000\n",
       "50%     380.360000   40000.000000\n",
       "75%     470.087500   50000.000000\n",
       "max    2057.570000  120000.000000"
      ]
     },
     "execution_count": 12,
     "metadata": {},
     "output_type": "execute_result"
    }
   ],
   "source": [
    "imoveis.describe() #notamos a dispcrepancia entre os valores da area e preco o que tras problemas para o modelo"
   ]
  },
  {
   "cell_type": "markdown",
   "id": "d4ef89a5",
   "metadata": {},
   "source": [
    "## Normalização"
   ]
  },
  {
   "cell_type": "code",
   "execution_count": 13,
   "id": "029d81f1",
   "metadata": {},
   "outputs": [],
   "source": [
    "from sklearn.preprocessing import MinMaxScaler"
   ]
  },
  {
   "cell_type": "code",
   "execution_count": 15,
   "id": "865b4333",
   "metadata": {},
   "outputs": [],
   "source": [
    "scaler = MinMaxScaler()  # Instantiate MinMaxScaler object with ()\n",
    "\n",
    "imovel_norm = pd.DataFrame(scaler.fit_transform(imoveis), index=imoveis.index, columns=imoveis.columns)"
   ]
  },
  {
   "cell_type": "code",
   "execution_count": 16,
   "id": "ee9636a1",
   "metadata": {},
   "outputs": [
    {
     "data": {
      "text/html": [
       "<div>\n",
       "<style scoped>\n",
       "    .dataframe tbody tr th:only-of-type {\n",
       "        vertical-align: middle;\n",
       "    }\n",
       "\n",
       "    .dataframe tbody tr th {\n",
       "        vertical-align: top;\n",
       "    }\n",
       "\n",
       "    .dataframe thead th {\n",
       "        text-align: right;\n",
       "    }\n",
       "</style>\n",
       "<table border=\"1\" class=\"dataframe\">\n",
       "  <thead>\n",
       "    <tr style=\"text-align: right;\">\n",
       "      <th></th>\n",
       "      <th>area</th>\n",
       "      <th>preco</th>\n",
       "    </tr>\n",
       "  </thead>\n",
       "  <tbody>\n",
       "    <tr>\n",
       "      <th>0</th>\n",
       "      <td>0.037776</td>\n",
       "      <td>0.05</td>\n",
       "    </tr>\n",
       "    <tr>\n",
       "      <th>1</th>\n",
       "      <td>0.033950</td>\n",
       "      <td>0.25</td>\n",
       "    </tr>\n",
       "    <tr>\n",
       "      <th>2</th>\n",
       "      <td>0.027585</td>\n",
       "      <td>0.25</td>\n",
       "    </tr>\n",
       "    <tr>\n",
       "      <th>3</th>\n",
       "      <td>0.080919</td>\n",
       "      <td>0.00</td>\n",
       "    </tr>\n",
       "    <tr>\n",
       "      <th>4</th>\n",
       "      <td>0.027517</td>\n",
       "      <td>0.05</td>\n",
       "    </tr>\n",
       "  </tbody>\n",
       "</table>\n",
       "</div>"
      ],
      "text/plain": [
       "       area  preco\n",
       "0  0.037776   0.05\n",
       "1  0.033950   0.25\n",
       "2  0.027585   0.25\n",
       "3  0.080919   0.00\n",
       "4  0.027517   0.05"
      ]
     },
     "execution_count": 16,
     "metadata": {},
     "output_type": "execute_result"
    }
   ],
   "source": [
    "\n",
    "imovel_norm.head()"
   ]
  },
  {
   "cell_type": "code",
   "execution_count": 18,
   "id": "21ff9177",
   "metadata": {},
   "outputs": [
    {
     "data": {
      "text/html": [
       "<div>\n",
       "<style scoped>\n",
       "    .dataframe tbody tr th:only-of-type {\n",
       "        vertical-align: middle;\n",
       "    }\n",
       "\n",
       "    .dataframe tbody tr th {\n",
       "        vertical-align: top;\n",
       "    }\n",
       "\n",
       "    .dataframe thead th {\n",
       "        text-align: right;\n",
       "    }\n",
       "</style>\n",
       "<table border=\"1\" class=\"dataframe\">\n",
       "  <thead>\n",
       "    <tr style=\"text-align: right;\">\n",
       "      <th></th>\n",
       "      <th>area</th>\n",
       "      <th>preco</th>\n",
       "    </tr>\n",
       "  </thead>\n",
       "  <tbody>\n",
       "    <tr>\n",
       "      <th>count</th>\n",
       "      <td>54.000000</td>\n",
       "      <td>54.000000</td>\n",
       "    </tr>\n",
       "    <tr>\n",
       "      <th>mean</th>\n",
       "      <td>0.093101</td>\n",
       "      <td>0.212963</td>\n",
       "    </tr>\n",
       "    <tr>\n",
       "      <th>std</th>\n",
       "      <td>0.148229</td>\n",
       "      <td>0.164886</td>\n",
       "    </tr>\n",
       "    <tr>\n",
       "      <th>min</th>\n",
       "      <td>0.000000</td>\n",
       "      <td>0.000000</td>\n",
       "    </tr>\n",
       "    <tr>\n",
       "      <th>25%</th>\n",
       "      <td>0.035065</td>\n",
       "      <td>0.100000</td>\n",
       "    </tr>\n",
       "    <tr>\n",
       "      <th>50%</th>\n",
       "      <td>0.049389</td>\n",
       "      <td>0.200000</td>\n",
       "    </tr>\n",
       "    <tr>\n",
       "      <th>75%</th>\n",
       "      <td>0.100245</td>\n",
       "      <td>0.300000</td>\n",
       "    </tr>\n",
       "    <tr>\n",
       "      <th>max</th>\n",
       "      <td>1.000000</td>\n",
       "      <td>1.000000</td>\n",
       "    </tr>\n",
       "  </tbody>\n",
       "</table>\n",
       "</div>"
      ],
      "text/plain": [
       "            area      preco\n",
       "count  54.000000  54.000000\n",
       "mean    0.093101   0.212963\n",
       "std     0.148229   0.164886\n",
       "min     0.000000   0.000000\n",
       "25%     0.035065   0.100000\n",
       "50%     0.049389   0.200000\n",
       "75%     0.100245   0.300000\n",
       "max     1.000000   1.000000"
      ]
     },
     "execution_count": 18,
     "metadata": {},
     "output_type": "execute_result"
    }
   ],
   "source": [
    "imovel_norm.describe() "
   ]
  },
  {
   "cell_type": "code",
   "execution_count": 19,
   "id": "74228a92",
   "metadata": {},
   "outputs": [
    {
     "data": {
      "text/plain": [
       "<AxesSubplot:xlabel='area', ylabel='preco'>"
      ]
     },
     "execution_count": 19,
     "metadata": {},
     "output_type": "execute_result"
    },
    {
     "data": {
      "image/png": "[encoded data removed]",
      "text/plain": [
       "<Figure size 640x480 with 1 Axes>"
      ]
     },
     "metadata": {},
     "output_type": "display_data"
    }
   ],
   "source": [
    "sns.regplot(x=\"area\", y=\"preco\", data=imovel_norm) # mesmo grafico com a normalização"
   ]
  },
  {
   "cell_type": "code",
   "execution_count": 20,
   "id": "d3cb15e1",
   "metadata": {},
   "outputs": [],
   "source": [
    "import statsmodels.formula.api as smf"
   ]
  },
  {
   "cell_type": "code",
   "execution_count": 26,
   "id": "df4b1759",
   "metadata": {},
   "outputs": [
    {
     "name": "stdout",
     "output_type": "stream",
     "text": [
      "                            OLS Regression Results                            \n",
      "==============================================================================\n",
      "Dep. Variable:                  preco   R-squared:                       0.262\n",
      "Model:                            OLS   Adj. R-squared:                  0.247\n",
      "Method:                 Least Squares   F-statistic:                     18.41\n",
      "Date:                Mon, 05 Feb 2024   Prob (F-statistic):           7.76e-05\n",
      "Time:                        12:13:21   Log-Likelihood:                 29.402\n",
      "No. Observations:                  54   AIC:                            -54.80\n",
      "Df Residuals:                      52   BIC:                            -50.83\n",
      "Df Model:                           1                                         \n",
      "Covariance Type:            nonrobust                                         \n",
      "==============================================================================\n",
      "                 coef    std err          t      P>|t|      [0.025      0.975]\n",
      "------------------------------------------------------------------------------\n",
      "Intercept      0.1600      0.023      6.942      0.000       0.114       0.206\n",
      "area           0.5688      0.133      4.291      0.000       0.303       0.835\n",
      "==============================================================================\n",
      "Omnibus:                       26.704   Durbin-Watson:                   1.944\n",
      "Prob(Omnibus):                  0.000   Jarque-Bera (JB):               63.010\n",
      "Skew:                           1.395   Prob(JB):                     2.08e-14\n",
      "Kurtosis:                       7.497   Cond. No.                         6.87\n",
      "==============================================================================\n",
      "\n",
      "Notes:\n",
      "[1] Standard Errors assume that the covariance matrix of the errors is correctly specified.\n"
     ]
    }
   ],
   "source": [
    "function = \"preco~area\"\n",
    "model = smf.ols(formula=function, data=imovel_norm).fit()\n",
    "print(model.summary())"
   ]
  },
  {
   "cell_type": "markdown",
   "id": "e738a949",
   "metadata": {},
   "source": [
    "## Treinar o Modelo de Machine Learn"
   ]
  },
  {
   "cell_type": "code",
   "execution_count": 28,
   "id": "3c719feb",
   "metadata": {},
   "outputs": [],
   "source": [
    "x = imovel_norm [[\"area\"]]\n",
    "y = imovel_norm [[\"preco\"]]"
   ]
  },
  {
   "cell_type": "markdown",
   "id": "3a71380a",
   "metadata": {},
   "source": [
    "#### Treino do treino"
   ]
  },
  {
   "cell_type": "code",
   "execution_count": 33,
   "id": "98e629b3",
   "metadata": {},
   "outputs": [
    {
     "data": {
      "text/plain": [
       "LinearRegression()"
      ]
     },
     "execution_count": 33,
     "metadata": {},
     "output_type": "execute_result"
    }
   ],
   "source": [
    "# divide as amostras x e y / define o tamnho do teste 20% / aplica um random para pegar amostras aleatorias (42)\n",
    "x_treino, x_teste, y_treino, y_teste = train_test_split(x,y, test_size=0.2, random_state=42) \n",
    "\n",
    "lr = LinearRegression() #inicializa o Linear Regression\n",
    "\n",
    "lr.fit(x_treino, y_treino)"
   ]
  },
  {
   "cell_type": "markdown",
   "id": "5fe39e26",
   "metadata": {},
   "source": [
    "x_treino, x_teste, y_treino, y_teste = train_test_split(x, y, test_size=0.2, random_state=42)\n",
    "\n",
    "Esta linha usa a train_test_splitfunção do sklearn.model_selectionmódulo para dividir seus dados ( xe y) em conjuntos de treinamento e teste.\n",
    "xrepresenta os recursos ou variáveis ​​independentes e yrepresenta a variável de destino ou variável dependente.\n",
    "test_size=0.2especifica que 20% dos dados serão reservados para teste, enquanto os 80% restantes serão usados ​​para treinamento.\n",
    "random_state=42define a semente aleatória para garantir a reprodutibilidade. A mesma semente aleatória sempre produzirá a mesma divisão, o que é útil para depuração e obtenção de resultados consistentes.\n",
    "lr = LinearRegression()\n",
    "\n",
    "Esta linha inicializa um modelo de regressão linear.\n",
    "LinearRegression()é uma classe do sklearn.linear_modelmódulo. Representa um modelo de regressão linear que ajusta uma relação linear entre as variáveis ​​independentes ( x) e a variável dependente ( y).\n",
    "lr.fit(x_treino, y_treino)\n",
    "\n",
    "Esta linha ajusta (treina) o modelo de regressão linear usando os dados de treinamento."
   ]
  },
  {
   "cell_type": "code",
   "execution_count": 35,
   "id": "8b3b2862",
   "metadata": {},
   "outputs": [
    {
     "name": "stdout",
     "output_type": "stream",
     "text": [
      "0.2754399686961231\n"
     ]
    }
   ],
   "source": [
    "r_sq = lr.score(x_treino,y_treino)\n",
    "print(r_sq) # R-Quadrado"
   ]
  },
  {
   "cell_type": "code",
   "execution_count": 37,
   "id": "10870530",
   "metadata": {},
   "outputs": [
    {
     "name": "stdout",
     "output_type": "stream",
     "text": [
      "MAE: 0.1068423059800295\n",
      "MSE: 0.01998711973859072\n",
      "RMSE: 0.14137581030215432\n"
     ]
    }
   ],
   "source": [
    "y_pred_treino = lr.predict(x_treino)\n",
    "print(\"MAE:\", metrics.mean_absolute_error(y_treino, y_pred_treino))\n",
    "print(\"MSE:\", metrics.mean_squared_error(y_treino, y_pred_treino))\n",
    "print(\"RMSE:\", np.sqrt(metrics.mean_squared_error(y_treino, y_pred_treino)))"
   ]
  },
  {
   "cell_type": "markdown",
   "id": "401cf280",
   "metadata": {},
   "source": [
    "#### Treino do Teste"
   ]
  },
  {
   "cell_type": "code",
   "execution_count": 38,
   "id": "56dd0303",
   "metadata": {},
   "outputs": [
    {
     "data": {
      "text/plain": [
       "LinearRegression()"
      ]
     },
     "execution_count": 38,
     "metadata": {},
     "output_type": "execute_result"
    }
   ],
   "source": [
    "lr.fit(x_teste, y_teste)"
   ]
  },
  {
   "cell_type": "code",
   "execution_count": 46,
   "id": "7d4b7a5d",
   "metadata": {},
   "outputs": [],
   "source": [
    "y_pred_teste = lr.predict(x_teste)"
   ]
  },
  {
   "cell_type": "code",
   "execution_count": 47,
   "id": "de1484b3",
   "metadata": {},
   "outputs": [
    {
     "name": "stdout",
     "output_type": "stream",
     "text": [
      "MAE: 0.10852020952335328\n",
      "MSE: 0.01746864564020875\n",
      "RMSE: 0.13216900408268478\n"
     ]
    }
   ],
   "source": [
    "y_pred_teste = lr.predict(x_teste)\n",
    "print(\"MAE:\", metrics.mean_absolute_error(y_teste, y_pred_teste))\n",
    "print(\"MSE:\", metrics.mean_squared_error(y_teste, y_pred_teste))\n",
    "print(\"RMSE:\", np.sqrt(metrics.mean_squared_error(y_teste, y_pred_teste)))"
   ]
  }
 ],
 "metadata": {
  "kernelspec": {
   "display_name": "Python 3 (ipykernel)",
   "language": "python",
   "name": "python3"
  },
  "language_info": {
   "codemirror_mode": {
    "name": "ipython",
    "version": 3
   },
   "file_extension": ".py",
   "mimetype": "text/x-python",
   "name": "python",
   "nbconvert_exporter": "python",
   "pygments_lexer": "ipython3",
   "version": "3.9.13"
  }
 },
 "nbformat": 4,
 "nbformat_minor": 5
}
