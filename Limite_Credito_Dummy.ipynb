{
 "cells": [
  {
   "cell_type": "code",
   "execution_count": 38,
   "id": "f124f4dc",
   "metadata": {},
   "outputs": [],
   "source": [
    "import pandas as pd\n",
    "import numpy as np\n",
    "import seaborn as sns\n",
    "from sklearn.model_selection import train_test_split\n",
    "from sklearn.linear_model import LinearRegression\n",
    "from sklearn import metrics"
   ]
  },
  {
   "cell_type": "code",
   "execution_count": 2,
   "id": "58e4ab02",
   "metadata": {},
   "outputs": [],
   "source": [
    "credito = pd.read_excel(\"Limite_Credito_Dummy.xlsx\")"
   ]
  },
  {
   "cell_type": "code",
   "execution_count": 3,
   "id": "7723975b",
   "metadata": {
    "scrolled": true
   },
   "outputs": [
    {
     "data": {
      "text/html": [
       "<div>\n",
       "<style scoped>\n",
       "    .dataframe tbody tr th:only-of-type {\n",
       "        vertical-align: middle;\n",
       "    }\n",
       "\n",
       "    .dataframe tbody tr th {\n",
       "        vertical-align: top;\n",
       "    }\n",
       "\n",
       "    .dataframe thead th {\n",
       "        text-align: right;\n",
       "    }\n",
       "</style>\n",
       "<table border=\"1\" class=\"dataframe\">\n",
       "  <thead>\n",
       "    <tr style=\"text-align: right;\">\n",
       "      <th></th>\n",
       "      <th>Idade</th>\n",
       "      <th>RendimentoTotal</th>\n",
       "      <th>Salario</th>\n",
       "      <th>LimitedeCreditoImediato</th>\n",
       "      <th>Escolaridade</th>\n",
       "      <th>Gênero</th>\n",
       "      <th>Região</th>\n",
       "      <th>LimitedoChequeEspecial</th>\n",
       "    </tr>\n",
       "  </thead>\n",
       "  <tbody>\n",
       "    <tr>\n",
       "      <th>0</th>\n",
       "      <td>70</td>\n",
       "      <td>10736</td>\n",
       "      <td>5214</td>\n",
       "      <td>400</td>\n",
       "      <td>Fundamental_Medio</td>\n",
       "      <td>RJ</td>\n",
       "      <td>F</td>\n",
       "      <td>500</td>\n",
       "    </tr>\n",
       "    <tr>\n",
       "      <th>1</th>\n",
       "      <td>68</td>\n",
       "      <td>5000</td>\n",
       "      <td>5000</td>\n",
       "      <td>380</td>\n",
       "      <td>Fundamental_Medio</td>\n",
       "      <td>RJ</td>\n",
       "      <td>F</td>\n",
       "      <td>600</td>\n",
       "    </tr>\n",
       "    <tr>\n",
       "      <th>2</th>\n",
       "      <td>44</td>\n",
       "      <td>5800</td>\n",
       "      <td>5800</td>\n",
       "      <td>500</td>\n",
       "      <td>Fundamental_Medio</td>\n",
       "      <td>RJ</td>\n",
       "      <td>F</td>\n",
       "      <td>800</td>\n",
       "    </tr>\n",
       "    <tr>\n",
       "      <th>3</th>\n",
       "      <td>72</td>\n",
       "      <td>4300</td>\n",
       "      <td>4300</td>\n",
       "      <td>2000</td>\n",
       "      <td>Fundamental_Medio</td>\n",
       "      <td>RJ</td>\n",
       "      <td>F</td>\n",
       "      <td>1000</td>\n",
       "    </tr>\n",
       "    <tr>\n",
       "      <th>4</th>\n",
       "      <td>75</td>\n",
       "      <td>4400</td>\n",
       "      <td>4400</td>\n",
       "      <td>3000</td>\n",
       "      <td>Fundamental_Medio</td>\n",
       "      <td>RJ</td>\n",
       "      <td>F</td>\n",
       "      <td>1000</td>\n",
       "    </tr>\n",
       "  </tbody>\n",
       "</table>\n",
       "</div>"
      ],
      "text/plain": [
       "   Idade  RendimentoTotal  Salario  LimitedeCreditoImediato  \\\n",
       "0     70            10736     5214                      400   \n",
       "1     68             5000     5000                      380   \n",
       "2     44             5800     5800                      500   \n",
       "3     72             4300     4300                     2000   \n",
       "4     75             4400     4400                     3000   \n",
       "\n",
       "        Escolaridade Gênero Região  LimitedoChequeEspecial  \n",
       "0  Fundamental_Medio     RJ      F                     500  \n",
       "1  Fundamental_Medio     RJ      F                     600  \n",
       "2  Fundamental_Medio     RJ      F                     800  \n",
       "3  Fundamental_Medio     RJ      F                    1000  \n",
       "4  Fundamental_Medio     RJ      F                    1000  "
      ]
     },
     "execution_count": 3,
     "metadata": {},
     "output_type": "execute_result"
    }
   ],
   "source": [
    "credito.head()"
   ]
  },
  {
   "cell_type": "markdown",
   "id": "870efb73",
   "metadata": {},
   "source": [
    "### Categorização\n",
    "\n",
    "transformar variáveis categoricas para numéricas"
   ]
  },
  {
   "cell_type": "code",
   "execution_count": 4,
   "id": "69001ba2",
   "metadata": {},
   "outputs": [],
   "source": [
    "# Transformar label de categoriaca para numerica\n",
    "from sklearn.preprocessing import LabelEncoder\n",
    "le = LabelEncoder()"
   ]
  },
  {
   "cell_type": "code",
   "execution_count": 5,
   "id": "4982aae5",
   "metadata": {},
   "outputs": [],
   "source": [
    "le.fit(credito.Escolaridade)\n",
    "credito.Escolaridade = le.transform(credito.Escolaridade)\n",
    "\n",
    "le.fit(credito.Gênero)\n",
    "credito.Gênero = le.transform(credito.Gênero)\n",
    "\n",
    "le.fit(credito.Região)\n",
    "credito.Região = le.transform(credito.Região)"
   ]
  },
  {
   "cell_type": "code",
   "execution_count": 6,
   "id": "bc1ba03a",
   "metadata": {},
   "outputs": [
    {
     "data": {
      "text/html": [
       "<div>\n",
       "<style scoped>\n",
       "    .dataframe tbody tr th:only-of-type {\n",
       "        vertical-align: middle;\n",
       "    }\n",
       "\n",
       "    .dataframe tbody tr th {\n",
       "        vertical-align: top;\n",
       "    }\n",
       "\n",
       "    .dataframe thead th {\n",
       "        text-align: right;\n",
       "    }\n",
       "</style>\n",
       "<table border=\"1\" class=\"dataframe\">\n",
       "  <thead>\n",
       "    <tr style=\"text-align: right;\">\n",
       "      <th></th>\n",
       "      <th>Idade</th>\n",
       "      <th>RendimentoTotal</th>\n",
       "      <th>Salario</th>\n",
       "      <th>LimitedeCreditoImediato</th>\n",
       "      <th>Escolaridade</th>\n",
       "      <th>Gênero</th>\n",
       "      <th>Região</th>\n",
       "      <th>LimitedoChequeEspecial</th>\n",
       "    </tr>\n",
       "  </thead>\n",
       "  <tbody>\n",
       "    <tr>\n",
       "      <th>0</th>\n",
       "      <td>70</td>\n",
       "      <td>10736</td>\n",
       "      <td>5214</td>\n",
       "      <td>400</td>\n",
       "      <td>0</td>\n",
       "      <td>0</td>\n",
       "      <td>0</td>\n",
       "      <td>500</td>\n",
       "    </tr>\n",
       "    <tr>\n",
       "      <th>1</th>\n",
       "      <td>68</td>\n",
       "      <td>5000</td>\n",
       "      <td>5000</td>\n",
       "      <td>380</td>\n",
       "      <td>0</td>\n",
       "      <td>0</td>\n",
       "      <td>0</td>\n",
       "      <td>600</td>\n",
       "    </tr>\n",
       "    <tr>\n",
       "      <th>2</th>\n",
       "      <td>44</td>\n",
       "      <td>5800</td>\n",
       "      <td>5800</td>\n",
       "      <td>500</td>\n",
       "      <td>0</td>\n",
       "      <td>0</td>\n",
       "      <td>0</td>\n",
       "      <td>800</td>\n",
       "    </tr>\n",
       "    <tr>\n",
       "      <th>3</th>\n",
       "      <td>72</td>\n",
       "      <td>4300</td>\n",
       "      <td>4300</td>\n",
       "      <td>2000</td>\n",
       "      <td>0</td>\n",
       "      <td>0</td>\n",
       "      <td>0</td>\n",
       "      <td>1000</td>\n",
       "    </tr>\n",
       "    <tr>\n",
       "      <th>4</th>\n",
       "      <td>75</td>\n",
       "      <td>4400</td>\n",
       "      <td>4400</td>\n",
       "      <td>3000</td>\n",
       "      <td>0</td>\n",
       "      <td>0</td>\n",
       "      <td>0</td>\n",
       "      <td>1000</td>\n",
       "    </tr>\n",
       "  </tbody>\n",
       "</table>\n",
       "</div>"
      ],
      "text/plain": [
       "   Idade  RendimentoTotal  Salario  LimitedeCreditoImediato  Escolaridade  \\\n",
       "0     70            10736     5214                      400             0   \n",
       "1     68             5000     5000                      380             0   \n",
       "2     44             5800     5800                      500             0   \n",
       "3     72             4300     4300                     2000             0   \n",
       "4     75             4400     4400                     3000             0   \n",
       "\n",
       "   Gênero  Região  LimitedoChequeEspecial  \n",
       "0       0       0                     500  \n",
       "1       0       0                     600  \n",
       "2       0       0                     800  \n",
       "3       0       0                    1000  \n",
       "4       0       0                    1000  "
      ]
     },
     "execution_count": 6,
     "metadata": {},
     "output_type": "execute_result"
    }
   ],
   "source": [
    "credito.head()"
   ]
  },
  {
   "cell_type": "markdown",
   "id": "1d20eeda",
   "metadata": {},
   "source": [
    "### Análise Exploratoria"
   ]
  },
  {
   "cell_type": "code",
   "execution_count": 7,
   "id": "cd93cd23",
   "metadata": {},
   "outputs": [
    {
     "data": {
      "text/plain": [
       "<AxesSubplot:xlabel='LimitedoChequeEspecial', ylabel='Count'>"
      ]
     },
     "execution_count": 7,
     "metadata": {},
     "output_type": "execute_result"
    },
    {
     "data": {
      "image/png": "[encoded data removed]",
      "text/plain": [
       "<Figure size 640x480 with 1 Axes>"
      ]
     },
     "metadata": {},
     "output_type": "display_data"
    }
   ],
   "source": [
    "sns.histplot(credito, x=\"LimitedoChequeEspecial\", kde=True) # Não tem Nomal"
   ]
  },
  {
   "cell_type": "code",
   "execution_count": 8,
   "id": "0736af4d",
   "metadata": {},
   "outputs": [
    {
     "data": {
      "text/plain": [
       "<AxesSubplot:xlabel='Idade', ylabel='Count'>"
      ]
     },
     "execution_count": 8,
     "metadata": {},
     "output_type": "execute_result"
    },
    {
     "data": {
      "image/png": "[encoded data removed]",
      "text/plain": [
       "<Figure size 640x480 with 1 Axes>"
      ]
     },
     "metadata": {},
     "output_type": "display_data"
    }
   ],
   "source": [
    "sns.histplot(credito, x=\"Idade\", kde=True) # mais proximo da normal"
   ]
  },
  {
   "cell_type": "code",
   "execution_count": 9,
   "id": "d6b42cdc",
   "metadata": {},
   "outputs": [
    {
     "data": {
      "text/html": [
       "<div>\n",
       "<style scoped>\n",
       "    .dataframe tbody tr th:only-of-type {\n",
       "        vertical-align: middle;\n",
       "    }\n",
       "\n",
       "    .dataframe tbody tr th {\n",
       "        vertical-align: top;\n",
       "    }\n",
       "\n",
       "    .dataframe thead th {\n",
       "        text-align: right;\n",
       "    }\n",
       "</style>\n",
       "<table border=\"1\" class=\"dataframe\">\n",
       "  <thead>\n",
       "    <tr style=\"text-align: right;\">\n",
       "      <th></th>\n",
       "      <th>Idade</th>\n",
       "      <th>RendimentoTotal</th>\n",
       "      <th>Salario</th>\n",
       "      <th>LimitedeCreditoImediato</th>\n",
       "      <th>Escolaridade</th>\n",
       "      <th>Gênero</th>\n",
       "      <th>Região</th>\n",
       "      <th>LimitedoChequeEspecial</th>\n",
       "    </tr>\n",
       "  </thead>\n",
       "  <tbody>\n",
       "    <tr>\n",
       "      <th>count</th>\n",
       "      <td>48.000000</td>\n",
       "      <td>48.000000</td>\n",
       "      <td>48.000000</td>\n",
       "      <td>48.000000</td>\n",
       "      <td>48.000000</td>\n",
       "      <td>48.000000</td>\n",
       "      <td>48.000000</td>\n",
       "      <td>48.000000</td>\n",
       "    </tr>\n",
       "    <tr>\n",
       "      <th>mean</th>\n",
       "      <td>61.458333</td>\n",
       "      <td>12275.083333</td>\n",
       "      <td>10507.125000</td>\n",
       "      <td>2175.208333</td>\n",
       "      <td>0.375000</td>\n",
       "      <td>0.458333</td>\n",
       "      <td>0.500000</td>\n",
       "      <td>5620.729167</td>\n",
       "    </tr>\n",
       "    <tr>\n",
       "      <th>std</th>\n",
       "      <td>15.284477</td>\n",
       "      <td>12640.654241</td>\n",
       "      <td>9332.173617</td>\n",
       "      <td>938.094469</td>\n",
       "      <td>0.489246</td>\n",
       "      <td>0.503534</td>\n",
       "      <td>0.505291</td>\n",
       "      <td>6131.900367</td>\n",
       "    </tr>\n",
       "    <tr>\n",
       "      <th>min</th>\n",
       "      <td>30.000000</td>\n",
       "      <td>4300.000000</td>\n",
       "      <td>4027.000000</td>\n",
       "      <td>340.000000</td>\n",
       "      <td>0.000000</td>\n",
       "      <td>0.000000</td>\n",
       "      <td>0.000000</td>\n",
       "      <td>500.000000</td>\n",
       "    </tr>\n",
       "    <tr>\n",
       "      <th>25%</th>\n",
       "      <td>47.000000</td>\n",
       "      <td>6380.000000</td>\n",
       "      <td>5950.000000</td>\n",
       "      <td>1925.000000</td>\n",
       "      <td>0.000000</td>\n",
       "      <td>0.000000</td>\n",
       "      <td>0.000000</td>\n",
       "      <td>2262.500000</td>\n",
       "    </tr>\n",
       "    <tr>\n",
       "      <th>50%</th>\n",
       "      <td>66.500000</td>\n",
       "      <td>8400.000000</td>\n",
       "      <td>7400.000000</td>\n",
       "      <td>2000.000000</td>\n",
       "      <td>0.000000</td>\n",
       "      <td>0.000000</td>\n",
       "      <td>0.500000</td>\n",
       "      <td>3550.000000</td>\n",
       "    </tr>\n",
       "    <tr>\n",
       "      <th>75%</th>\n",
       "      <td>70.000000</td>\n",
       "      <td>12378.250000</td>\n",
       "      <td>10163.000000</td>\n",
       "      <td>3000.000000</td>\n",
       "      <td>1.000000</td>\n",
       "      <td>1.000000</td>\n",
       "      <td>1.000000</td>\n",
       "      <td>6500.000000</td>\n",
       "    </tr>\n",
       "    <tr>\n",
       "      <th>max</th>\n",
       "      <td>94.000000</td>\n",
       "      <td>81000.000000</td>\n",
       "      <td>54500.000000</td>\n",
       "      <td>3500.000000</td>\n",
       "      <td>1.000000</td>\n",
       "      <td>1.000000</td>\n",
       "      <td>1.000000</td>\n",
       "      <td>35000.000000</td>\n",
       "    </tr>\n",
       "  </tbody>\n",
       "</table>\n",
       "</div>"
      ],
      "text/plain": [
       "           Idade  RendimentoTotal       Salario  LimitedeCreditoImediato  \\\n",
       "count  48.000000        48.000000     48.000000                48.000000   \n",
       "mean   61.458333     12275.083333  10507.125000              2175.208333   \n",
       "std    15.284477     12640.654241   9332.173617               938.094469   \n",
       "min    30.000000      4300.000000   4027.000000               340.000000   \n",
       "25%    47.000000      6380.000000   5950.000000              1925.000000   \n",
       "50%    66.500000      8400.000000   7400.000000              2000.000000   \n",
       "75%    70.000000     12378.250000  10163.000000              3000.000000   \n",
       "max    94.000000     81000.000000  54500.000000              3500.000000   \n",
       "\n",
       "       Escolaridade     Gênero     Região  LimitedoChequeEspecial  \n",
       "count     48.000000  48.000000  48.000000               48.000000  \n",
       "mean       0.375000   0.458333   0.500000             5620.729167  \n",
       "std        0.489246   0.503534   0.505291             6131.900367  \n",
       "min        0.000000   0.000000   0.000000              500.000000  \n",
       "25%        0.000000   0.000000   0.000000             2262.500000  \n",
       "50%        0.000000   0.000000   0.500000             3550.000000  \n",
       "75%        1.000000   1.000000   1.000000             6500.000000  \n",
       "max        1.000000   1.000000   1.000000            35000.000000  "
      ]
     },
     "execution_count": 9,
     "metadata": {},
     "output_type": "execute_result"
    }
   ],
   "source": [
    "credito.describe()"
   ]
  },
  {
   "cell_type": "code",
   "execution_count": 12,
   "id": "055f78bc",
   "metadata": {},
   "outputs": [],
   "source": [
    "from sklearn.preprocessing import MinMaxScaler"
   ]
  },
  {
   "cell_type": "code",
   "execution_count": 13,
   "id": "77a616eb",
   "metadata": {},
   "outputs": [],
   "source": [
    "scaler = MinMaxScaler()  # Instantiate MinMaxScaler object with ()\n",
    "\n",
    "credito_norm = pd.DataFrame(scaler.fit_transform(credito), index=credito.index, columns=credito.columns)"
   ]
  },
  {
   "cell_type": "code",
   "execution_count": 14,
   "id": "30276b3c",
   "metadata": {},
   "outputs": [
    {
     "data": {
      "text/html": [
       "<div>\n",
       "<style scoped>\n",
       "    .dataframe tbody tr th:only-of-type {\n",
       "        vertical-align: middle;\n",
       "    }\n",
       "\n",
       "    .dataframe tbody tr th {\n",
       "        vertical-align: top;\n",
       "    }\n",
       "\n",
       "    .dataframe thead th {\n",
       "        text-align: right;\n",
       "    }\n",
       "</style>\n",
       "<table border=\"1\" class=\"dataframe\">\n",
       "  <thead>\n",
       "    <tr style=\"text-align: right;\">\n",
       "      <th></th>\n",
       "      <th>Idade</th>\n",
       "      <th>RendimentoTotal</th>\n",
       "      <th>Salario</th>\n",
       "      <th>LimitedeCreditoImediato</th>\n",
       "      <th>Escolaridade</th>\n",
       "      <th>Gênero</th>\n",
       "      <th>Região</th>\n",
       "      <th>LimitedoChequeEspecial</th>\n",
       "    </tr>\n",
       "  </thead>\n",
       "  <tbody>\n",
       "    <tr>\n",
       "      <th>0</th>\n",
       "      <td>0.625000</td>\n",
       "      <td>0.083911</td>\n",
       "      <td>0.023518</td>\n",
       "      <td>0.018987</td>\n",
       "      <td>0.0</td>\n",
       "      <td>0.0</td>\n",
       "      <td>0.0</td>\n",
       "      <td>0.000000</td>\n",
       "    </tr>\n",
       "    <tr>\n",
       "      <th>1</th>\n",
       "      <td>0.593750</td>\n",
       "      <td>0.009126</td>\n",
       "      <td>0.019278</td>\n",
       "      <td>0.012658</td>\n",
       "      <td>0.0</td>\n",
       "      <td>0.0</td>\n",
       "      <td>0.0</td>\n",
       "      <td>0.002899</td>\n",
       "    </tr>\n",
       "    <tr>\n",
       "      <th>2</th>\n",
       "      <td>0.218750</td>\n",
       "      <td>0.019557</td>\n",
       "      <td>0.035128</td>\n",
       "      <td>0.050633</td>\n",
       "      <td>0.0</td>\n",
       "      <td>0.0</td>\n",
       "      <td>0.0</td>\n",
       "      <td>0.008696</td>\n",
       "    </tr>\n",
       "    <tr>\n",
       "      <th>3</th>\n",
       "      <td>0.656250</td>\n",
       "      <td>0.000000</td>\n",
       "      <td>0.005409</td>\n",
       "      <td>0.525316</td>\n",
       "      <td>0.0</td>\n",
       "      <td>0.0</td>\n",
       "      <td>0.0</td>\n",
       "      <td>0.014493</td>\n",
       "    </tr>\n",
       "    <tr>\n",
       "      <th>4</th>\n",
       "      <td>0.703125</td>\n",
       "      <td>0.001304</td>\n",
       "      <td>0.007390</td>\n",
       "      <td>0.841772</td>\n",
       "      <td>0.0</td>\n",
       "      <td>0.0</td>\n",
       "      <td>0.0</td>\n",
       "      <td>0.014493</td>\n",
       "    </tr>\n",
       "  </tbody>\n",
       "</table>\n",
       "</div>"
      ],
      "text/plain": [
       "      Idade  RendimentoTotal   Salario  LimitedeCreditoImediato  Escolaridade  \\\n",
       "0  0.625000         0.083911  0.023518                 0.018987           0.0   \n",
       "1  0.593750         0.009126  0.019278                 0.012658           0.0   \n",
       "2  0.218750         0.019557  0.035128                 0.050633           0.0   \n",
       "3  0.656250         0.000000  0.005409                 0.525316           0.0   \n",
       "4  0.703125         0.001304  0.007390                 0.841772           0.0   \n",
       "\n",
       "   Gênero  Região  LimitedoChequeEspecial  \n",
       "0     0.0     0.0                0.000000  \n",
       "1     0.0     0.0                0.002899  \n",
       "2     0.0     0.0                0.008696  \n",
       "3     0.0     0.0                0.014493  \n",
       "4     0.0     0.0                0.014493  "
      ]
     },
     "execution_count": 14,
     "metadata": {},
     "output_type": "execute_result"
    }
   ],
   "source": [
    "credito_norm.head()"
   ]
  },
  {
   "cell_type": "code",
   "execution_count": 16,
   "id": "c2f709f4",
   "metadata": {},
   "outputs": [
    {
     "data": {
      "text/html": [
       "<div>\n",
       "<style scoped>\n",
       "    .dataframe tbody tr th:only-of-type {\n",
       "        vertical-align: middle;\n",
       "    }\n",
       "\n",
       "    .dataframe tbody tr th {\n",
       "        vertical-align: top;\n",
       "    }\n",
       "\n",
       "    .dataframe thead th {\n",
       "        text-align: right;\n",
       "    }\n",
       "</style>\n",
       "<table border=\"1\" class=\"dataframe\">\n",
       "  <thead>\n",
       "    <tr style=\"text-align: right;\">\n",
       "      <th></th>\n",
       "      <th>Idade</th>\n",
       "      <th>RendimentoTotal</th>\n",
       "      <th>Salario</th>\n",
       "      <th>LimitedeCreditoImediato</th>\n",
       "      <th>Escolaridade</th>\n",
       "      <th>Gênero</th>\n",
       "      <th>Região</th>\n",
       "      <th>LimitedoChequeEspecial</th>\n",
       "    </tr>\n",
       "  </thead>\n",
       "  <tbody>\n",
       "    <tr>\n",
       "      <th>count</th>\n",
       "      <td>48.000000</td>\n",
       "      <td>48.000000</td>\n",
       "      <td>48.000000</td>\n",
       "      <td>48.000000</td>\n",
       "      <td>48.000000</td>\n",
       "      <td>48.000000</td>\n",
       "      <td>48.000000</td>\n",
       "      <td>48.000000</td>\n",
       "    </tr>\n",
       "    <tr>\n",
       "      <th>mean</th>\n",
       "      <td>0.491536</td>\n",
       "      <td>0.103978</td>\n",
       "      <td>0.128388</td>\n",
       "      <td>0.580762</td>\n",
       "      <td>0.375000</td>\n",
       "      <td>0.458333</td>\n",
       "      <td>0.500000</td>\n",
       "      <td>0.148427</td>\n",
       "    </tr>\n",
       "    <tr>\n",
       "      <th>std</th>\n",
       "      <td>0.238820</td>\n",
       "      <td>0.164806</td>\n",
       "      <td>0.184894</td>\n",
       "      <td>0.296865</td>\n",
       "      <td>0.489246</td>\n",
       "      <td>0.503534</td>\n",
       "      <td>0.505291</td>\n",
       "      <td>0.177736</td>\n",
       "    </tr>\n",
       "    <tr>\n",
       "      <th>min</th>\n",
       "      <td>0.000000</td>\n",
       "      <td>0.000000</td>\n",
       "      <td>0.000000</td>\n",
       "      <td>0.000000</td>\n",
       "      <td>0.000000</td>\n",
       "      <td>0.000000</td>\n",
       "      <td>0.000000</td>\n",
       "      <td>0.000000</td>\n",
       "    </tr>\n",
       "    <tr>\n",
       "      <th>25%</th>\n",
       "      <td>0.265625</td>\n",
       "      <td>0.027119</td>\n",
       "      <td>0.038100</td>\n",
       "      <td>0.501582</td>\n",
       "      <td>0.000000</td>\n",
       "      <td>0.000000</td>\n",
       "      <td>0.000000</td>\n",
       "      <td>0.051087</td>\n",
       "    </tr>\n",
       "    <tr>\n",
       "      <th>50%</th>\n",
       "      <td>0.570312</td>\n",
       "      <td>0.053455</td>\n",
       "      <td>0.066828</td>\n",
       "      <td>0.525316</td>\n",
       "      <td>0.000000</td>\n",
       "      <td>0.000000</td>\n",
       "      <td>0.500000</td>\n",
       "      <td>0.088406</td>\n",
       "    </tr>\n",
       "    <tr>\n",
       "      <th>75%</th>\n",
       "      <td>0.625000</td>\n",
       "      <td>0.105323</td>\n",
       "      <td>0.121570</td>\n",
       "      <td>0.841772</td>\n",
       "      <td>1.000000</td>\n",
       "      <td>1.000000</td>\n",
       "      <td>1.000000</td>\n",
       "      <td>0.173913</td>\n",
       "    </tr>\n",
       "    <tr>\n",
       "      <th>max</th>\n",
       "      <td>1.000000</td>\n",
       "      <td>1.000000</td>\n",
       "      <td>1.000000</td>\n",
       "      <td>1.000000</td>\n",
       "      <td>1.000000</td>\n",
       "      <td>1.000000</td>\n",
       "      <td>1.000000</td>\n",
       "      <td>1.000000</td>\n",
       "    </tr>\n",
       "  </tbody>\n",
       "</table>\n",
       "</div>"
      ],
      "text/plain": [
       "           Idade  RendimentoTotal    Salario  LimitedeCreditoImediato  \\\n",
       "count  48.000000        48.000000  48.000000                48.000000   \n",
       "mean    0.491536         0.103978   0.128388                 0.580762   \n",
       "std     0.238820         0.164806   0.184894                 0.296865   \n",
       "min     0.000000         0.000000   0.000000                 0.000000   \n",
       "25%     0.265625         0.027119   0.038100                 0.501582   \n",
       "50%     0.570312         0.053455   0.066828                 0.525316   \n",
       "75%     0.625000         0.105323   0.121570                 0.841772   \n",
       "max     1.000000         1.000000   1.000000                 1.000000   \n",
       "\n",
       "       Escolaridade     Gênero     Região  LimitedoChequeEspecial  \n",
       "count     48.000000  48.000000  48.000000               48.000000  \n",
       "mean       0.375000   0.458333   0.500000                0.148427  \n",
       "std        0.489246   0.503534   0.505291                0.177736  \n",
       "min        0.000000   0.000000   0.000000                0.000000  \n",
       "25%        0.000000   0.000000   0.000000                0.051087  \n",
       "50%        0.000000   0.000000   0.500000                0.088406  \n",
       "75%        1.000000   1.000000   1.000000                0.173913  \n",
       "max        1.000000   1.000000   1.000000                1.000000  "
      ]
     },
     "execution_count": 16,
     "metadata": {},
     "output_type": "execute_result"
    }
   ],
   "source": [
    "credito_norm.describe()"
   ]
  },
  {
   "cell_type": "code",
   "execution_count": 17,
   "id": "51ea74ac",
   "metadata": {},
   "outputs": [],
   "source": [
    "import statsmodels.formula.api as smf"
   ]
  },
  {
   "cell_type": "markdown",
   "id": "67ad85bb",
   "metadata": {},
   "source": [
    "### Análise de P Value - Backward - retirar os maiores P-VAlues > 0.05 ou 5%"
   ]
  },
  {
   "cell_type": "code",
   "execution_count": 21,
   "id": "61989467",
   "metadata": {},
   "outputs": [
    {
     "name": "stdout",
     "output_type": "stream",
     "text": [
      "                              OLS Regression Results                              \n",
      "==================================================================================\n",
      "Dep. Variable:     LimitedoChequeEspecial   R-squared:                       0.886\n",
      "Model:                                OLS   Adj. R-squared:                  0.865\n",
      "Method:                     Least Squares   F-statistic:                     44.20\n",
      "Date:                    Mon, 05 Feb 2024   Prob (F-statistic):           7.44e-17\n",
      "Time:                            16:30:19   Log-Likelihood:                 67.328\n",
      "No. Observations:                      48   AIC:                            -118.7\n",
      "Df Residuals:                          40   BIC:                            -103.7\n",
      "Df Model:                               7                                         \n",
      "Covariance Type:                nonrobust                                         \n",
      "===========================================================================================\n",
      "                              coef    std err          t      P>|t|      [0.025      0.975]\n",
      "-------------------------------------------------------------------------------------------\n",
      "Intercept                  -0.0321      0.028     -1.129      0.266      -0.089       0.025\n",
      "Idade                      -0.0093      0.042     -0.220      0.827      -0.094       0.076\n",
      "RendimentoTotal             0.3010      0.225      1.336      0.189      -0.154       0.756\n",
      "Salario                     0.4095      0.207      1.977      0.055      -0.009       0.828\n",
      "LimitedeCreditoImediato     0.0223      0.038      0.589      0.559      -0.054       0.099\n",
      "Escolaridade                0.0245      0.028      0.867      0.391      -0.033       0.082\n",
      "Gênero                      0.0676      0.023      2.974      0.005       0.022       0.114\n",
      "Região                      0.0960      0.030      3.153      0.003       0.034       0.158\n",
      "==============================================================================\n",
      "Omnibus:                       15.742   Durbin-Watson:                   1.724\n",
      "Prob(Omnibus):                  0.000   Jarque-Bera (JB):               41.550\n",
      "Skew:                          -0.679   Prob(JB):                     9.50e-10\n",
      "Kurtosis:                       7.351   Cond. No.                         49.7\n",
      "==============================================================================\n",
      "\n",
      "Notes:\n",
      "[1] Standard Errors assume that the covariance matrix of the errors is correctly specified.\n"
     ]
    }
   ],
   "source": [
    "function = \"LimitedoChequeEspecial~Idade+RendimentoTotal+Salario+LimitedeCreditoImediato+Escolaridade+Gênero+Região\"\n",
    "model = smf.ols(formula=function, data=credito_norm).fit()\n",
    "print(model.summary())"
   ]
  },
  {
   "cell_type": "code",
   "execution_count": 22,
   "id": "99b4d6c0",
   "metadata": {},
   "outputs": [
    {
     "name": "stdout",
     "output_type": "stream",
     "text": [
      "                              OLS Regression Results                              \n",
      "==================================================================================\n",
      "Dep. Variable:     LimitedoChequeEspecial   R-squared:                       0.885\n",
      "Model:                                OLS   Adj. R-squared:                  0.869\n",
      "Method:                     Least Squares   F-statistic:                     52.78\n",
      "Date:                    Mon, 05 Feb 2024   Prob (F-statistic):           9.97e-18\n",
      "Time:                            16:31:10   Log-Likelihood:                 67.299\n",
      "No. Observations:                      48   AIC:                            -120.6\n",
      "Df Residuals:                          41   BIC:                            -107.5\n",
      "Df Model:                               6                                         \n",
      "Covariance Type:                nonrobust                                         \n",
      "===========================================================================================\n",
      "                              coef    std err          t      P>|t|      [0.025      0.975]\n",
      "-------------------------------------------------------------------------------------------\n",
      "Intercept                  -0.0357      0.023     -1.564      0.126      -0.082       0.010\n",
      "RendimentoTotal             0.2924      0.219      1.334      0.190      -0.150       0.735\n",
      "Salario                     0.4155      0.203      2.048      0.047       0.006       0.825\n",
      "LimitedeCreditoImediato     0.0221      0.037      0.589      0.559      -0.054       0.098\n",
      "Escolaridade                0.0244      0.028      0.872      0.388      -0.032       0.081\n",
      "Gênero                      0.0667      0.022      3.019      0.004       0.022       0.111\n",
      "Região                      0.0957      0.030      3.183      0.003       0.035       0.156\n",
      "==============================================================================\n",
      "Omnibus:                       15.771   Durbin-Watson:                   1.746\n",
      "Prob(Omnibus):                  0.000   Jarque-Bera (JB):               41.413\n",
      "Skew:                          -0.684   Prob(JB):                     1.02e-09\n",
      "Kurtosis:                       7.340   Cond. No.                         46.5\n",
      "==============================================================================\n",
      "\n",
      "Notes:\n",
      "[1] Standard Errors assume that the covariance matrix of the errors is correctly specified.\n"
     ]
    }
   ],
   "source": [
    "function = \"LimitedoChequeEspecial~RendimentoTotal+Salario+LimitedeCreditoImediato+Escolaridade+Gênero+Região\"\n",
    "model = smf.ols(formula=function, data=credito_norm).fit()\n",
    "print(model.summary())"
   ]
  },
  {
   "cell_type": "code",
   "execution_count": 23,
   "id": "26f4cc41",
   "metadata": {},
   "outputs": [
    {
     "name": "stdout",
     "output_type": "stream",
     "text": [
      "                              OLS Regression Results                              \n",
      "==================================================================================\n",
      "Dep. Variable:     LimitedoChequeEspecial   R-squared:                       0.884\n",
      "Model:                                OLS   Adj. R-squared:                  0.871\n",
      "Method:                     Least Squares   F-statistic:                     64.26\n",
      "Date:                    Mon, 05 Feb 2024   Prob (F-statistic):           1.39e-18\n",
      "Time:                            16:34:00   Log-Likelihood:                 67.097\n",
      "No. Observations:                      48   AIC:                            -122.2\n",
      "Df Residuals:                          42   BIC:                            -111.0\n",
      "Df Model:                               5                                         \n",
      "Covariance Type:                nonrobust                                         \n",
      "===================================================================================\n",
      "                      coef    std err          t      P>|t|      [0.025      0.975]\n",
      "-----------------------------------------------------------------------------------\n",
      "Intercept          -0.0267      0.017     -1.590      0.119      -0.060       0.007\n",
      "RendimentoTotal     0.2689      0.214      1.257      0.216      -0.163       0.701\n",
      "Salario             0.4296      0.200      2.149      0.037       0.026       0.833\n",
      "Escolaridade        0.0228      0.028      0.828      0.413      -0.033       0.079\n",
      "Gênero              0.0686      0.022      3.160      0.003       0.025       0.112\n",
      "Região              0.1039      0.026      3.939      0.000       0.051       0.157\n",
      "==============================================================================\n",
      "Omnibus:                       18.013   Durbin-Watson:                   1.737\n",
      "Prob(Omnibus):                  0.000   Jarque-Bera (JB):               53.309\n",
      "Skew:                          -0.774   Prob(JB):                     2.66e-12\n",
      "Kurtosis:                       7.925   Cond. No.                         41.9\n",
      "==============================================================================\n",
      "\n",
      "Notes:\n",
      "[1] Standard Errors assume that the covariance matrix of the errors is correctly specified.\n"
     ]
    }
   ],
   "source": [
    "function = \"LimitedoChequeEspecial~RendimentoTotal+Salario+LimitedeCreditoImediato+Escolaridade+Gênero+Região\"\n",
    "model = smf.ols(formula=function, data=credito_norm).fit()\n",
    "print(model.summary())"
   ]
  },
  {
   "cell_type": "code",
   "execution_count": 25,
   "id": "925f2182",
   "metadata": {},
   "outputs": [
    {
     "name": "stdout",
     "output_type": "stream",
     "text": [
      "                              OLS Regression Results                              \n",
      "==================================================================================\n",
      "Dep. Variable:     LimitedoChequeEspecial   R-squared:                       0.883\n",
      "Model:                                OLS   Adj. R-squared:                  0.872\n",
      "Method:                     Least Squares   F-statistic:                     80.75\n",
      "Date:                    Mon, 05 Feb 2024   Prob (F-statistic):           2.02e-19\n",
      "Time:                            16:35:04   Log-Likelihood:                 66.709\n",
      "No. Observations:                      48   AIC:                            -123.4\n",
      "Df Residuals:                          43   BIC:                            -114.1\n",
      "Df Model:                               4                                         \n",
      "Covariance Type:                nonrobust                                         \n",
      "===================================================================================\n",
      "                      coef    std err          t      P>|t|      [0.025      0.975]\n",
      "-----------------------------------------------------------------------------------\n",
      "Intercept          -0.0286      0.017     -1.731      0.091      -0.062       0.005\n",
      "RendimentoTotal     0.2291      0.208      1.103      0.276      -0.190       0.648\n",
      "Salario             0.4739      0.192      2.469      0.018       0.087       0.861\n",
      "Gênero              0.0743      0.020      3.631      0.001       0.033       0.116\n",
      "Região              0.1166      0.021      5.450      0.000       0.073       0.160\n",
      "==============================================================================\n",
      "Omnibus:                       21.294   Durbin-Watson:                   1.615\n",
      "Prob(Omnibus):                  0.000   Jarque-Bera (JB):               65.346\n",
      "Skew:                          -0.973   Prob(JB):                     6.46e-15\n",
      "Kurtosis:                       8.374   Cond. No.                         38.1\n",
      "==============================================================================\n",
      "\n",
      "Notes:\n",
      "[1] Standard Errors assume that the covariance matrix of the errors is correctly specified.\n"
     ]
    }
   ],
   "source": [
    "function = \"LimitedoChequeEspecial~RendimentoTotal+Salario+Gênero+Região\"\n",
    "model = smf.ols(formula=function, data=credito_norm).fit()\n",
    "print(model.summary())"
   ]
  },
  {
   "cell_type": "code",
   "execution_count": 27,
   "id": "dba273fb",
   "metadata": {},
   "outputs": [
    {
     "name": "stdout",
     "output_type": "stream",
     "text": [
      "                              OLS Regression Results                              \n",
      "==================================================================================\n",
      "Dep. Variable:     LimitedoChequeEspecial   R-squared:                       0.879\n",
      "Model:                                OLS   Adj. R-squared:                  0.871\n",
      "Method:                     Least Squares   F-statistic:                     106.7\n",
      "Date:                    Mon, 05 Feb 2024   Prob (F-statistic):           3.24e-20\n",
      "Time:                            16:35:28   Log-Likelihood:                 66.039\n",
      "No. Observations:                      48   AIC:                            -124.1\n",
      "Df Residuals:                          44   BIC:                            -116.6\n",
      "Df Model:                               3                                         \n",
      "Covariance Type:                nonrobust                                         \n",
      "==============================================================================\n",
      "                 coef    std err          t      P>|t|      [0.025      0.975]\n",
      "------------------------------------------------------------------------------\n",
      "Intercept     -0.0275      0.017     -1.665      0.103      -0.061       0.006\n",
      "Salario        0.6753      0.059     11.367      0.000       0.556       0.795\n",
      "Gênero         0.0694      0.020      3.466      0.001       0.029       0.110\n",
      "Região         0.1149      0.021      5.370      0.000       0.072       0.158\n",
      "==============================================================================\n",
      "Omnibus:                       11.932   Durbin-Watson:                   1.646\n",
      "Prob(Omnibus):                  0.003   Jarque-Bera (JB):               29.897\n",
      "Skew:                          -0.402   Prob(JB):                     3.22e-07\n",
      "Kurtosis:                       6.782   Cond. No.                         8.24\n",
      "==============================================================================\n",
      "\n",
      "Notes:\n",
      "[1] Standard Errors assume that the covariance matrix of the errors is correctly specified.\n"
     ]
    }
   ],
   "source": [
    "function = \"LimitedoChequeEspecial~Salario+Gênero+Região\"\n",
    "model = smf.ols(formula=function, data=credito_norm).fit()\n",
    "print(model.summary())"
   ]
  },
  {
   "cell_type": "code",
   "execution_count": 28,
   "id": "07088758",
   "metadata": {},
   "outputs": [
    {
     "name": "stdout",
     "output_type": "stream",
     "text": [
      "                                   OLS Regression Results                                  \n",
      "===========================================================================================\n",
      "Dep. Variable:     LimitedoChequeEspecial   R-squared (uncentered):                   0.925\n",
      "Model:                                OLS   Adj. R-squared (uncentered):              0.920\n",
      "Method:                     Least Squares   F-statistic:                              185.0\n",
      "Date:                    Mon, 05 Feb 2024   Prob (F-statistic):                    2.56e-25\n",
      "Time:                            16:36:42   Log-Likelihood:                          64.573\n",
      "No. Observations:                      48   AIC:                                     -123.1\n",
      "Df Residuals:                          45   BIC:                                     -117.5\n",
      "Df Model:                               3                                                  \n",
      "Covariance Type:                nonrobust                                                  \n",
      "==============================================================================\n",
      "                 coef    std err          t      P>|t|      [0.025      0.975]\n",
      "------------------------------------------------------------------------------\n",
      "Salario        0.6801      0.061     11.241      0.000       0.558       0.802\n",
      "Gênero         0.0497      0.016      3.019      0.004       0.017       0.083\n",
      "Região         0.0938      0.018      5.339      0.000       0.058       0.129\n",
      "==============================================================================\n",
      "Omnibus:                       10.368   Durbin-Watson:                   1.545\n",
      "Prob(Omnibus):                  0.006   Jarque-Bera (JB):               28.212\n",
      "Skew:                          -0.066   Prob(JB):                     7.48e-07\n",
      "Kurtosis:                       6.753   Cond. No.                         5.47\n",
      "==============================================================================\n",
      "\n",
      "Notes:\n",
      "[1] R² is computed without centering (uncentered) since the model does not contain a constant.\n",
      "[2] Standard Errors assume that the covariance matrix of the errors is correctly specified.\n"
     ]
    }
   ],
   "source": [
    "#Para tirar o intercept basta acrescentar o -1 no final\n",
    "function = \"LimitedoChequeEspecial~Salario+Gênero+Região-1\" \n",
    "model = smf.ols(formula=function, data=credito_norm).fit()\n",
    "print(model.summary())"
   ]
  },
  {
   "cell_type": "markdown",
   "id": "400bc8be",
   "metadata": {},
   "source": [
    "### Treinar o Modelo"
   ]
  },
  {
   "cell_type": "code",
   "execution_count": 30,
   "id": "0a239d58",
   "metadata": {},
   "outputs": [],
   "source": [
    "x = credito_norm[[\"Salario\", \"Gênero\", \"Região\"]]\n",
    "y = credito_norm[[\"LimitedoChequeEspecial\"]]"
   ]
  },
  {
   "cell_type": "code",
   "execution_count": 32,
   "id": "c26372d9",
   "metadata": {},
   "outputs": [
    {
     "data": {
      "text/plain": [
       "LinearRegression()"
      ]
     },
     "execution_count": 32,
     "metadata": {},
     "output_type": "execute_result"
    }
   ],
   "source": [
    "x_treino, x_teste, y_treino, y_teste = train_test_split(x,y, test_size=0.2, random_state=42) \n",
    "lr = LinearRegression() #inicializa o Linear Regression\n",
    "\n",
    "lr.fit(x_treino, y_treino)"
   ]
  },
  {
   "cell_type": "code",
   "execution_count": 33,
   "id": "95df7d0e",
   "metadata": {},
   "outputs": [
    {
     "name": "stdout",
     "output_type": "stream",
     "text": [
      "0.9385849118567633\n"
     ]
    }
   ],
   "source": [
    "r_sq = lr.score(x_treino,y_treino)\n",
    "print(r_sq) # R-Quadrado"
   ]
  },
  {
   "cell_type": "code",
   "execution_count": 34,
   "id": "3b7810c5",
   "metadata": {},
   "outputs": [
    {
     "name": "stdout",
     "output_type": "stream",
     "text": [
      "MAE: 0.03369009365701896\n",
      "MSE: 0.002252899550747987\n",
      "RMSE: 0.04746471901052388\n"
     ]
    }
   ],
   "source": [
    "y_pred_treino = lr.predict(x_treino)\n",
    "print(\"MAE:\", metrics.mean_absolute_error(y_treino, y_pred_treino))\n",
    "print(\"MSE:\", metrics.mean_squared_error(y_treino, y_pred_treino))\n",
    "print(\"RMSE:\", np.sqrt(metrics.mean_squared_error(y_treino, y_pred_treino)))"
   ]
  },
  {
   "cell_type": "code",
   "execution_count": 35,
   "id": "ddd433e7",
   "metadata": {},
   "outputs": [
    {
     "data": {
      "text/plain": [
       "LinearRegression()"
      ]
     },
     "execution_count": 35,
     "metadata": {},
     "output_type": "execute_result"
    }
   ],
   "source": [
    "lr.fit(x_teste, y_teste)"
   ]
  },
  {
   "cell_type": "code",
   "execution_count": 36,
   "id": "e227e452",
   "metadata": {},
   "outputs": [],
   "source": [
    "y_pred_teste = lr.predict(x_teste)"
   ]
  },
  {
   "cell_type": "code",
   "execution_count": 37,
   "id": "e0a42adc",
   "metadata": {},
   "outputs": [
    {
     "name": "stdout",
     "output_type": "stream",
     "text": [
      "MAE: 0.05541300381835509\n",
      "MSE: 0.004198447615484172\n",
      "RMSE: 0.0647954289706008\n"
     ]
    }
   ],
   "source": [
    "y_pred_teste = lr.predict(x_teste)\n",
    "print(\"MAE:\", metrics.mean_absolute_error(y_teste, y_pred_teste))\n",
    "print(\"MSE:\", metrics.mean_squared_error(y_teste, y_pred_teste))\n",
    "print(\"RMSE:\", np.sqrt(metrics.mean_squared_error(y_teste, y_pred_teste)))"
   ]
  }
 ],
 "metadata": {
  "kernelspec": {
   "display_name": "Python 3 (ipykernel)",
   "language": "python",
   "name": "python3"
  },
  "language_info": {
   "codemirror_mode": {
    "name": "ipython",
    "version": 3
   },
   "file_extension": ".py",
   "mimetype": "text/x-python",
   "name": "python",
   "nbconvert_exporter": "python",
   "pygments_lexer": "ipython3",
   "version": "3.9.13"
  }
 },
 "nbformat": 4,
 "nbformat_minor": 5
}
