{
  "nbformat": 4,
  "nbformat_minor": 0,
  "metadata": {
    "colab": {
      "provenance": []
    },
    "kernelspec": {
      "name": "python3",
      "display_name": "Python 3"
    },
    "language_info": {
      "name": "python"
    }
  },
  "cells": [
    {
      "cell_type": "code",
      "execution_count": 1,
      "metadata": {
        "id": "DusUvhCfbKjd"
      },
      "outputs": [],
      "source": [
        "import pandas as pd\n",
        "import numpy as np\n",
        "import seaborn as sns"
      ]
    },
    {
      "cell_type": "code",
      "source": [
        "#Importe o arquivo formato xlsx\n",
        "limite = pd.read_excel(\"Limite_Credito1.xlsx\")\n",
        "limite.head()"
      ],
      "metadata": {
        "colab": {
          "base_uri": "https://localhost:8080/",
          "height": 206
        },
        "id": "cgV_r6OcbRVs",
        "outputId": "d3331a3a-f4d4-4b83-986f-ad84839ab7b4"
      },
      "execution_count": 2,
      "outputs": [
        {
          "output_type": "execute_result",
          "data": {
            "text/plain": [
              "   Idade  RendimentoTotal  Salario  LimitedeCreditoImediato  \\\n",
              "0     70            10736     5214                      400   \n",
              "1     68             5000     5000                      380   \n",
              "2     44             5800     5800                      500   \n",
              "3     72             4300     4300                     2000   \n",
              "4     75             4400     4400                     3000   \n",
              "\n",
              "   LimitedoChequeEspecial  \n",
              "0                     500  \n",
              "1                     600  \n",
              "2                     800  \n",
              "3                    1000  \n",
              "4                    1000  "
            ],
            "text/html": [
              "\n",
              "  <div id=\"df-4581e6e0-5f6c-45f7-968f-7228a5efa24a\">\n",
              "    <div class=\"colab-df-container\">\n",
              "      <div>\n",
              "<style scoped>\n",
              "    .dataframe tbody tr th:only-of-type {\n",
              "        vertical-align: middle;\n",
              "    }\n",
              "\n",
              "    .dataframe tbody tr th {\n",
              "        vertical-align: top;\n",
              "    }\n",
              "\n",
              "    .dataframe thead th {\n",
              "        text-align: right;\n",
              "    }\n",
              "</style>\n",
              "<table border=\"1\" class=\"dataframe\">\n",
              "  <thead>\n",
              "    <tr style=\"text-align: right;\">\n",
              "      <th></th>\n",
              "      <th>Idade</th>\n",
              "      <th>RendimentoTotal</th>\n",
              "      <th>Salario</th>\n",
              "      <th>LimitedeCreditoImediato</th>\n",
              "      <th>LimitedoChequeEspecial</th>\n",
              "    </tr>\n",
              "  </thead>\n",
              "  <tbody>\n",
              "    <tr>\n",
              "      <th>0</th>\n",
              "      <td>70</td>\n",
              "      <td>10736</td>\n",
              "      <td>5214</td>\n",
              "      <td>400</td>\n",
              "      <td>500</td>\n",
              "    </tr>\n",
              "    <tr>\n",
              "      <th>1</th>\n",
              "      <td>68</td>\n",
              "      <td>5000</td>\n",
              "      <td>5000</td>\n",
              "      <td>380</td>\n",
              "      <td>600</td>\n",
              "    </tr>\n",
              "    <tr>\n",
              "      <th>2</th>\n",
              "      <td>44</td>\n",
              "      <td>5800</td>\n",
              "      <td>5800</td>\n",
              "      <td>500</td>\n",
              "      <td>800</td>\n",
              "    </tr>\n",
              "    <tr>\n",
              "      <th>3</th>\n",
              "      <td>72</td>\n",
              "      <td>4300</td>\n",
              "      <td>4300</td>\n",
              "      <td>2000</td>\n",
              "      <td>1000</td>\n",
              "    </tr>\n",
              "    <tr>\n",
              "      <th>4</th>\n",
              "      <td>75</td>\n",
              "      <td>4400</td>\n",
              "      <td>4400</td>\n",
              "      <td>3000</td>\n",
              "      <td>1000</td>\n",
              "    </tr>\n",
              "  </tbody>\n",
              "</table>\n",
              "</div>\n",
              "      <button class=\"colab-df-convert\" onclick=\"convertToInteractive('df-4581e6e0-5f6c-45f7-968f-7228a5efa24a')\"\n",
              "              title=\"Convert this dataframe to an interactive table.\"\n",
              "              style=\"display:none;\">\n",
              "        \n",
              "  <svg xmlns=\"http://www.w3.org/2000/svg\" height=\"24px\"viewBox=\"0 0 24 24\"\n",
              "       width=\"24px\">\n",
              "    <path d=\"M0 0h24v24H0V0z\" fill=\"none\"/>\n",
              "    <path d=\"M18.56 5.44l.94 2.06.94-2.06 2.06-.94-2.06-.94-.94-2.06-.94 2.06-2.06.94zm-11 1L8.5 8.5l.94-2.06 2.06-.94-2.06-.94L8.5 2.5l-.94 2.06-2.06.94zm10 10l.94 2.06.94-2.06 2.06-.94-2.06-.94-.94-2.06-.94 2.06-2.06.94z\"/><path d=\"M17.41 7.96l-1.37-1.37c-.4-.4-.92-.59-1.43-.59-.52 0-1.04.2-1.43.59L10.3 9.45l-7.72 7.72c-.78.78-.78 2.05 0 2.83L4 21.41c.39.39.9.59 1.41.59.51 0 1.02-.2 1.41-.59l7.78-7.78 2.81-2.81c.8-.78.8-2.07 0-2.86zM5.41 20L4 18.59l7.72-7.72 1.47 1.35L5.41 20z\"/>\n",
              "  </svg>\n",
              "      </button>\n",
              "      \n",
              "  <style>\n",
              "    .colab-df-container {\n",
              "      display:flex;\n",
              "      flex-wrap:wrap;\n",
              "      gap: 12px;\n",
              "    }\n",
              "\n",
              "    .colab-df-convert {\n",
              "      background-color: #E8F0FE;\n",
              "      border: none;\n",
              "      border-radius: 50%;\n",
              "      cursor: pointer;\n",
              "      display: none;\n",
              "      fill: #1967D2;\n",
              "      height: 32px;\n",
              "      padding: 0 0 0 0;\n",
              "      width: 32px;\n",
              "    }\n",
              "\n",
              "    .colab-df-convert:hover {\n",
              "      background-color: #E2EBFA;\n",
              "      box-shadow: 0px 1px 2px rgba(60, 64, 67, 0.3), 0px 1px 3px 1px rgba(60, 64, 67, 0.15);\n",
              "      fill: #174EA6;\n",
              "    }\n",
              "\n",
              "    [theme=dark] .colab-df-convert {\n",
              "      background-color: #3B4455;\n",
              "      fill: #D2E3FC;\n",
              "    }\n",
              "\n",
              "    [theme=dark] .colab-df-convert:hover {\n",
              "      background-color: #434B5C;\n",
              "      box-shadow: 0px 1px 3px 1px rgba(0, 0, 0, 0.15);\n",
              "      filter: drop-shadow(0px 1px 2px rgba(0, 0, 0, 0.3));\n",
              "      fill: #FFFFFF;\n",
              "    }\n",
              "  </style>\n",
              "\n",
              "      <script>\n",
              "        const buttonEl =\n",
              "          document.querySelector('#df-4581e6e0-5f6c-45f7-968f-7228a5efa24a button.colab-df-convert');\n",
              "        buttonEl.style.display =\n",
              "          google.colab.kernel.accessAllowed ? 'block' : 'none';\n",
              "\n",
              "        async function convertToInteractive(key) {\n",
              "          const element = document.querySelector('#df-4581e6e0-5f6c-45f7-968f-7228a5efa24a');\n",
              "          const dataTable =\n",
              "            await google.colab.kernel.invokeFunction('convertToInteractive',\n",
              "                                                     [key], {});\n",
              "          if (!dataTable) return;\n",
              "\n",
              "          const docLinkHtml = 'Like what you see? Visit the ' +\n",
              "            '<a target=\"_blank\" href=https://colab.research.google.com/notebooks/data_table.ipynb>data table notebook</a>'\n",
              "            + ' to learn more about interactive tables.';\n",
              "          element.innerHTML = '';\n",
              "          dataTable['output_type'] = 'display_data';\n",
              "          await google.colab.output.renderOutput(dataTable, element);\n",
              "          const docLink = document.createElement('div');\n",
              "          docLink.innerHTML = docLinkHtml;\n",
              "          element.appendChild(docLink);\n",
              "        }\n",
              "      </script>\n",
              "    </div>\n",
              "  </div>\n",
              "  "
            ]
          },
          "metadata": {},
          "execution_count": 2
        }
      ]
    },
    {
      "cell_type": "code",
      "source": [
        "limite.corr()"
      ],
      "metadata": {
        "colab": {
          "base_uri": "https://localhost:8080/",
          "height": 206
        },
        "id": "ZcquolPzbmQ7",
        "outputId": "80b935ea-f6dd-4797-a83d-4b2d74ddd2fc"
      },
      "execution_count": 69,
      "outputs": [
        {
          "output_type": "execute_result",
          "data": {
            "text/plain": [
              "                            Idade  RendimentoTotal   Salario  \\\n",
              "Idade                    1.000000         0.066396  0.063227   \n",
              "RendimentoTotal          0.066396         1.000000  0.960551   \n",
              "Salario                  0.063227         0.960551  1.000000   \n",
              "LimitedeCreditoImediato  0.064149         0.031041  0.081792   \n",
              "LimitedoChequeEspecial   0.075883         0.858120  0.888839   \n",
              "\n",
              "                         LimitedeCreditoImediato  LimitedoChequeEspecial  \n",
              "Idade                                   0.064149                0.075883  \n",
              "RendimentoTotal                         0.031041                0.858120  \n",
              "Salario                                 0.081792                0.888839  \n",
              "LimitedeCreditoImediato                 1.000000                0.226990  \n",
              "LimitedoChequeEspecial                  0.226990                1.000000  "
            ],
            "text/html": [
              "\n",
              "  <div id=\"df-3843a331-28a3-4546-b753-86cf4789aea0\">\n",
              "    <div class=\"colab-df-container\">\n",
              "      <div>\n",
              "<style scoped>\n",
              "    .dataframe tbody tr th:only-of-type {\n",
              "        vertical-align: middle;\n",
              "    }\n",
              "\n",
              "    .dataframe tbody tr th {\n",
              "        vertical-align: top;\n",
              "    }\n",
              "\n",
              "    .dataframe thead th {\n",
              "        text-align: right;\n",
              "    }\n",
              "</style>\n",
              "<table border=\"1\" class=\"dataframe\">\n",
              "  <thead>\n",
              "    <tr style=\"text-align: right;\">\n",
              "      <th></th>\n",
              "      <th>Idade</th>\n",
              "      <th>RendimentoTotal</th>\n",
              "      <th>Salario</th>\n",
              "      <th>LimitedeCreditoImediato</th>\n",
              "      <th>LimitedoChequeEspecial</th>\n",
              "    </tr>\n",
              "  </thead>\n",
              "  <tbody>\n",
              "    <tr>\n",
              "      <th>Idade</th>\n",
              "      <td>1.000000</td>\n",
              "      <td>0.066396</td>\n",
              "      <td>0.063227</td>\n",
              "      <td>0.064149</td>\n",
              "      <td>0.075883</td>\n",
              "    </tr>\n",
              "    <tr>\n",
              "      <th>RendimentoTotal</th>\n",
              "      <td>0.066396</td>\n",
              "      <td>1.000000</td>\n",
              "      <td>0.960551</td>\n",
              "      <td>0.031041</td>\n",
              "      <td>0.858120</td>\n",
              "    </tr>\n",
              "    <tr>\n",
              "      <th>Salario</th>\n",
              "      <td>0.063227</td>\n",
              "      <td>0.960551</td>\n",
              "      <td>1.000000</td>\n",
              "      <td>0.081792</td>\n",
              "      <td>0.888839</td>\n",
              "    </tr>\n",
              "    <tr>\n",
              "      <th>LimitedeCreditoImediato</th>\n",
              "      <td>0.064149</td>\n",
              "      <td>0.031041</td>\n",
              "      <td>0.081792</td>\n",
              "      <td>1.000000</td>\n",
              "      <td>0.226990</td>\n",
              "    </tr>\n",
              "    <tr>\n",
              "      <th>LimitedoChequeEspecial</th>\n",
              "      <td>0.075883</td>\n",
              "      <td>0.858120</td>\n",
              "      <td>0.888839</td>\n",
              "      <td>0.226990</td>\n",
              "      <td>1.000000</td>\n",
              "    </tr>\n",
              "  </tbody>\n",
              "</table>\n",
              "</div>\n",
              "      <button class=\"colab-df-convert\" onclick=\"convertToInteractive('df-3843a331-28a3-4546-b753-86cf4789aea0')\"\n",
              "              title=\"Convert this dataframe to an interactive table.\"\n",
              "              style=\"display:none;\">\n",
              "        \n",
              "  <svg xmlns=\"http://www.w3.org/2000/svg\" height=\"24px\"viewBox=\"0 0 24 24\"\n",
              "       width=\"24px\">\n",
              "    <path d=\"M0 0h24v24H0V0z\" fill=\"none\"/>\n",
              "    <path d=\"M18.56 5.44l.94 2.06.94-2.06 2.06-.94-2.06-.94-.94-2.06-.94 2.06-2.06.94zm-11 1L8.5 8.5l.94-2.06 2.06-.94-2.06-.94L8.5 2.5l-.94 2.06-2.06.94zm10 10l.94 2.06.94-2.06 2.06-.94-2.06-.94-.94-2.06-.94 2.06-2.06.94z\"/><path d=\"M17.41 7.96l-1.37-1.37c-.4-.4-.92-.59-1.43-.59-.52 0-1.04.2-1.43.59L10.3 9.45l-7.72 7.72c-.78.78-.78 2.05 0 2.83L4 21.41c.39.39.9.59 1.41.59.51 0 1.02-.2 1.41-.59l7.78-7.78 2.81-2.81c.8-.78.8-2.07 0-2.86zM5.41 20L4 18.59l7.72-7.72 1.47 1.35L5.41 20z\"/>\n",
              "  </svg>\n",
              "      </button>\n",
              "      \n",
              "  <style>\n",
              "    .colab-df-container {\n",
              "      display:flex;\n",
              "      flex-wrap:wrap;\n",
              "      gap: 12px;\n",
              "    }\n",
              "\n",
              "    .colab-df-convert {\n",
              "      background-color: #E8F0FE;\n",
              "      border: none;\n",
              "      border-radius: 50%;\n",
              "      cursor: pointer;\n",
              "      display: none;\n",
              "      fill: #1967D2;\n",
              "      height: 32px;\n",
              "      padding: 0 0 0 0;\n",
              "      width: 32px;\n",
              "    }\n",
              "\n",
              "    .colab-df-convert:hover {\n",
              "      background-color: #E2EBFA;\n",
              "      box-shadow: 0px 1px 2px rgba(60, 64, 67, 0.3), 0px 1px 3px 1px rgba(60, 64, 67, 0.15);\n",
              "      fill: #174EA6;\n",
              "    }\n",
              "\n",
              "    [theme=dark] .colab-df-convert {\n",
              "      background-color: #3B4455;\n",
              "      fill: #D2E3FC;\n",
              "    }\n",
              "\n",
              "    [theme=dark] .colab-df-convert:hover {\n",
              "      background-color: #434B5C;\n",
              "      box-shadow: 0px 1px 3px 1px rgba(0, 0, 0, 0.15);\n",
              "      filter: drop-shadow(0px 1px 2px rgba(0, 0, 0, 0.3));\n",
              "      fill: #FFFFFF;\n",
              "    }\n",
              "  </style>\n",
              "\n",
              "      <script>\n",
              "        const buttonEl =\n",
              "          document.querySelector('#df-3843a331-28a3-4546-b753-86cf4789aea0 button.colab-df-convert');\n",
              "        buttonEl.style.display =\n",
              "          google.colab.kernel.accessAllowed ? 'block' : 'none';\n",
              "\n",
              "        async function convertToInteractive(key) {\n",
              "          const element = document.querySelector('#df-3843a331-28a3-4546-b753-86cf4789aea0');\n",
              "          const dataTable =\n",
              "            await google.colab.kernel.invokeFunction('convertToInteractive',\n",
              "                                                     [key], {});\n",
              "          if (!dataTable) return;\n",
              "\n",
              "          const docLinkHtml = 'Like what you see? Visit the ' +\n",
              "            '<a target=\"_blank\" href=https://colab.research.google.com/notebooks/data_table.ipynb>data table notebook</a>'\n",
              "            + ' to learn more about interactive tables.';\n",
              "          element.innerHTML = '';\n",
              "          dataTable['output_type'] = 'display_data';\n",
              "          await google.colab.output.renderOutput(dataTable, element);\n",
              "          const docLink = document.createElement('div');\n",
              "          docLink.innerHTML = docLinkHtml;\n",
              "          element.appendChild(docLink);\n",
              "        }\n",
              "      </script>\n",
              "    </div>\n",
              "  </div>\n",
              "  "
            ]
          },
          "metadata": {},
          "execution_count": 69
        }
      ]
    },
    {
      "cell_type": "code",
      "source": [
        "sns.pairplot(limite);"
      ],
      "metadata": {
        "colab": {
          "base_uri": "https://localhost:8080/",
          "height": 903
        },
        "id": "SYyKzaRGb11V",
        "outputId": "ef81410c-fd61-43f4-9a15-9b240fe28aa0"
      },
      "execution_count": 38,
      "outputs": [
        {
          "output_type": "display_data",
          "data": {
            "text/plain": [
              "<Figure size 900x900 with 30 Axes>"
            ],
            "image/png": "[encoded data removed]"
          },
          "metadata": {
            "needs_background": "light"
          }
        }
      ]
    },
    {
      "cell_type": "code",
      "source": [
        "import statsmodels.formula.api as smf"
      ],
      "metadata": {
        "id": "et8FnCeBfFty"
      },
      "execution_count": 6,
      "outputs": []
    },
    {
      "cell_type": "code",
      "source": [
        "#modelo MRLS\n",
        "function = 'LimitedoChequeEspecial~Idade+RendimentoTotal+Salario+LimitedeCreditoImediato'\n",
        "model = smf.ols(formula=function, data=limite).fit() \n",
        "print(model.summary())"
      ],
      "metadata": {
        "id": "xsLKNtTTwDD6",
        "colab": {
          "base_uri": "https://localhost:8080/"
        },
        "outputId": "9a571ef4-74ba-4a08-c56b-419c41be7386"
      },
      "execution_count": 7,
      "outputs": [
        {
          "output_type": "stream",
          "name": "stdout",
          "text": [
            "                              OLS Regression Results                              \n",
            "==================================================================================\n",
            "Dep. Variable:     LimitedoChequeEspecial   R-squared:                       0.816\n",
            "Model:                                OLS   Adj. R-squared:                  0.799\n",
            "Method:                     Least Squares   F-statistic:                     47.65\n",
            "Date:                    Sun, 09 Oct 2022   Prob (F-statistic):           2.92e-15\n",
            "Time:                            13:03:11   Log-Likelihood:                -445.61\n",
            "No. Observations:                      48   AIC:                             901.2\n",
            "Df Residuals:                          43   BIC:                             910.6\n",
            "Df Model:                               4                                         \n",
            "Covariance Type:                nonrobust                                         \n",
            "===========================================================================================\n",
            "                              coef    std err          t      P>|t|      [0.025      0.975]\n",
            "-------------------------------------------------------------------------------------------\n",
            "Intercept               -2851.7932   1889.470     -1.509      0.139   -6662.272     958.685\n",
            "Idade                       3.7798     26.772      0.141      0.888     -50.212      57.772\n",
            "RendimentoTotal             0.0753      0.116      0.649      0.519      -0.158       0.309\n",
            "Salario                     0.4770      0.157      3.031      0.004       0.160       0.794\n",
            "LimitedeCreditoImediato     1.0602      0.436      2.429      0.019       0.180       1.940\n",
            "==============================================================================\n",
            "Omnibus:                        2.177   Durbin-Watson:                   1.791\n",
            "Prob(Omnibus):                  0.337   Jarque-Bera (JB):                1.346\n",
            "Skew:                          -0.098   Prob(JB):                        0.510\n",
            "Kurtosis:                       3.797   Cond. No.                     1.06e+05\n",
            "==============================================================================\n",
            "\n",
            "Notes:\n",
            "[1] Standard Errors assume that the covariance matrix of the errors is correctly specified.\n",
            "[2] The condition number is large, 1.06e+05. This might indicate that there are\n",
            "strong multicollinearity or other numerical problems.\n"
          ]
        }
      ]
    },
    {
      "cell_type": "code",
      "source": [
        "#Remover a variável RendimentoTotal que tem o maior P-value\n",
        "#Ainda temos variáveis acima de 5%\n",
        "function = 'LimitedoChequeEspecial~RendimentoTotal+Salario+LimitedeCreditoImediato'\n",
        "model = smf.ols(formula=function, data=limite).fit() \n",
        "print(model.summary())"
      ],
      "metadata": {
        "colab": {
          "base_uri": "https://localhost:8080/"
        },
        "id": "5XDWj-TOe_vg",
        "outputId": "75f2e6cb-b551-4086-95b7-a21dbc8f678a"
      },
      "execution_count": 8,
      "outputs": [
        {
          "output_type": "stream",
          "name": "stdout",
          "text": [
            "                              OLS Regression Results                              \n",
            "==================================================================================\n",
            "Dep. Variable:     LimitedoChequeEspecial   R-squared:                       0.816\n",
            "Model:                                OLS   Adj. R-squared:                  0.803\n",
            "Method:                     Least Squares   F-statistic:                     64.97\n",
            "Date:                    Sun, 09 Oct 2022   Prob (F-statistic):           3.34e-16\n",
            "Time:                            13:03:13   Log-Likelihood:                -445.62\n",
            "No. Observations:                      48   AIC:                             899.2\n",
            "Df Residuals:                          44   BIC:                             906.7\n",
            "Df Model:                               3                                         \n",
            "Covariance Type:                nonrobust                                         \n",
            "===========================================================================================\n",
            "                              coef    std err          t      P>|t|      [0.025      0.975]\n",
            "-------------------------------------------------------------------------------------------\n",
            "Intercept               -2632.8485   1067.330     -2.467      0.018   -4783.910    -481.787\n",
            "RendimentoTotal             0.0758      0.115      0.662      0.512      -0.155       0.307\n",
            "Salario                     0.4767      0.156      3.063      0.004       0.163       0.790\n",
            "LimitedeCreditoImediato     1.0642      0.431      2.471      0.017       0.196       1.932\n",
            "==============================================================================\n",
            "Omnibus:                        2.073   Durbin-Watson:                   1.776\n",
            "Prob(Omnibus):                  0.355   Jarque-Bera (JB):                1.245\n",
            "Skew:                          -0.075   Prob(JB):                        0.537\n",
            "Kurtosis:                       3.775   Cond. No.                     6.08e+04\n",
            "==============================================================================\n",
            "\n",
            "Notes:\n",
            "[1] Standard Errors assume that the covariance matrix of the errors is correctly specified.\n",
            "[2] The condition number is large, 6.08e+04. This might indicate that there are\n",
            "strong multicollinearity or other numerical problems.\n"
          ]
        }
      ]
    },
    {
      "cell_type": "code",
      "source": [
        "#Remover a variável RendimentoTotal que tem o maior P-value\n",
        "#Ainda temos variáveis acima de 5%\n",
        "function = 'LimitedoChequeEspecial~Salario+LimitedeCreditoImediato'\n",
        "model = smf.ols(formula=function, data=limite).fit() \n",
        "print(model.summary())"
      ],
      "metadata": {
        "colab": {
          "base_uri": "https://localhost:8080/"
        },
        "id": "OBrY1yPVjToM",
        "outputId": "2f800b93-4d21-417c-b4fd-f731c2b80f73"
      },
      "execution_count": 9,
      "outputs": [
        {
          "output_type": "stream",
          "name": "stdout",
          "text": [
            "                              OLS Regression Results                              \n",
            "==================================================================================\n",
            "Dep. Variable:     LimitedoChequeEspecial   R-squared:                       0.814\n",
            "Model:                                OLS   Adj. R-squared:                  0.806\n",
            "Method:                     Least Squares   F-statistic:                     98.47\n",
            "Date:                    Sun, 09 Oct 2022   Prob (F-statistic):           3.66e-17\n",
            "Time:                            13:03:16   Log-Likelihood:                -445.86\n",
            "No. Observations:                      48   AIC:                             897.7\n",
            "Df Residuals:                          45   BIC:                             903.3\n",
            "Df Model:                               2                                         \n",
            "Covariance Type:                nonrobust                                         \n",
            "===========================================================================================\n",
            "                              coef    std err          t      P>|t|      [0.025      0.975]\n",
            "-------------------------------------------------------------------------------------------\n",
            "Intercept               -2636.5605   1060.626     -2.486      0.017   -4772.770    -500.351\n",
            "Salario                     0.5757      0.042     13.582      0.000       0.490       0.661\n",
            "LimitedeCreditoImediato     1.0153      0.422      2.408      0.020       0.166       1.865\n",
            "==============================================================================\n",
            "Omnibus:                        1.010   Durbin-Watson:                   1.779\n",
            "Prob(Omnibus):                  0.604   Jarque-Bera (JB):                0.330\n",
            "Skew:                           0.014   Prob(JB):                        0.848\n",
            "Kurtosis:                       3.405   Cond. No.                     3.83e+04\n",
            "==============================================================================\n",
            "\n",
            "Notes:\n",
            "[1] Standard Errors assume that the covariance matrix of the errors is correctly specified.\n",
            "[2] The condition number is large, 3.83e+04. This might indicate that there are\n",
            "strong multicollinearity or other numerical problems.\n"
          ]
        }
      ]
    },
    {
      "cell_type": "code",
      "source": [],
      "metadata": {
        "id": "8xab53uoi1SE"
      },
      "execution_count": null,
      "outputs": []
    }
  ]
}